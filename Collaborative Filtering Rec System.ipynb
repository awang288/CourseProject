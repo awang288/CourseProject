{
 "cells": [
  {
   "cell_type": "markdown",
   "metadata": {},
   "source": [
    "# Collaborative Filtering Recommender System"
   ]
  },
  {
   "cell_type": "markdown",
   "metadata": {},
   "source": [
    "## Part 1: Importing the data"
   ]
  },
  {
   "cell_type": "code",
   "execution_count": 1,
   "metadata": {},
   "outputs": [],
   "source": [
    "import gzip\n",
    "import json\n",
    "import pandas as pd\n",
    "\n",
    "filename=\"goodreads_reviews_poetry_cleaned.json.gz\"\n",
    "\n",
    "with gzip.GzipFile(filename, 'r',) as fin:\n",
    "    data=[]\n",
    "    for line in fin:\n",
    "        info=json.loads(line.decode('utf-8'))\n",
    "        new_info={}\n",
    "        new_info['user_id']=info['user_id']\n",
    "        new_info['book_id']=info['book_id']\n",
    "        new_info['rating']=info['rating']\n",
    "        new_info['date']=info['date']\n",
    "        data.append(new_info)"
   ]
  },
  {
   "cell_type": "code",
   "execution_count": 2,
   "metadata": {},
   "outputs": [
    {
     "data": {
      "text/plain": [
       "{'user_id': '3ca7375dba942a760e53b726c472a7dd',\n",
       " 'book_id': '402128',\n",
       " 'rating': 5,\n",
       " 'date': 'Fri Jun 15 11:41:12 -0700 2012'}"
      ]
     },
     "execution_count": 2,
     "metadata": {},
     "output_type": "execute_result"
    }
   ],
   "source": [
    "data[0]"
   ]
  },
  {
   "cell_type": "code",
   "execution_count": 3,
   "metadata": {},
   "outputs": [
    {
     "data": {
      "text/plain": [
       "'Fri Jun 15 11:41:12 -0700 2012'"
      ]
     },
     "execution_count": 3,
     "metadata": {},
     "output_type": "execute_result"
    }
   ],
   "source": [
    "data[0]['date']"
   ]
  },
  {
   "cell_type": "markdown",
   "metadata": {},
   "source": [
    "## Part 2: Data exploration\n",
    "\n",
    "Build histogram that shows how many users have between 0-5 ratings, 6-10 ratings, etc"
   ]
  },
  {
   "cell_type": "code",
   "execution_count": 4,
   "metadata": {},
   "outputs": [],
   "source": [
    "import matplotlib.pyplot as plt\n",
    "import numpy as np\n",
    "\n",
    "user_to_num_ratings={}\n",
    "for rating in data: \n",
    "    if rating['user_id'] not in user_to_num_ratings:\n",
    "        user_to_num_ratings[rating['user_id']]=1\n",
    "    else:\n",
    "        user_to_num_ratings[rating['user_id']]+=1"
   ]
  },
  {
   "cell_type": "code",
   "execution_count": 5,
   "metadata": {},
   "outputs": [
    {
     "data": {
      "text/plain": [
       "36636"
      ]
     },
     "execution_count": 5,
     "metadata": {},
     "output_type": "execute_result"
    }
   ],
   "source": [
    "len(user_to_num_ratings)"
   ]
  },
  {
   "cell_type": "code",
   "execution_count": 6,
   "metadata": {},
   "outputs": [],
   "source": [
    "counts=[]\n",
    "for user in user_to_num_ratings:\n",
    "    counts.append(user_to_num_ratings[user])\n",
    "counts=np.array(counts)"
   ]
  },
  {
   "cell_type": "code",
   "execution_count": 9,
   "metadata": {},
   "outputs": [
    {
     "data": {
      "text/plain": [
       "Text(0.5, 1.0, 'Distribution of number of reviews (range limited to 50 reviews)')"
      ]
     },
     "execution_count": 9,
     "metadata": {},
     "output_type": "execute_result"
    },
    {
     "data": {
      "image/png": "[encoded data removed]",
      "text/plain": [
       "<Figure size 432x288 with 1 Axes>"
      ]
     },
     "metadata": {
      "needs_background": "light"
     },
     "output_type": "display_data"
    }
   ],
   "source": [
    "n, bins, patches = plt.hist(x=counts, bins=50, range=(0,50), color='#0504aa')\n",
    "plt.title('Distribution of number of reviews (range limited to 50 reviews)')"
   ]
  },
  {
   "cell_type": "code",
   "execution_count": 10,
   "metadata": {},
   "outputs": [
    {
     "data": {
      "text/plain": [
       "Text(0.5, 1.0, 'Distribution of number of reviews (range limited to 30 reviews)')"
      ]
     },
     "execution_count": 10,
     "metadata": {},
     "output_type": "execute_result"
    },
    {
     "data": {
      "image/png": "[encoded data removed]",
      "text/plain": [
       "<Figure size 432x288 with 1 Axes>"
      ]
     },
     "metadata": {
      "needs_background": "light"
     },
     "output_type": "display_data"
    }
   ],
   "source": [
    "n, bins, patches = plt.hist(x=counts, bins=[i for i in range(2,30)], range=(2,30), color='#0504aa')\n",
    "plt.title('Distribution of number of reviews (range limited to 30 reviews)')"
   ]
  },
  {
   "cell_type": "code",
   "execution_count": 11,
   "metadata": {},
   "outputs": [
    {
     "data": {
      "text/plain": [
       "1062"
      ]
     },
     "execution_count": 11,
     "metadata": {},
     "output_type": "execute_result"
    }
   ],
   "source": [
    "max(counts)"
   ]
  },
  {
   "cell_type": "markdown",
   "metadata": {},
   "source": [
    "## Part 3: Determine the bins for number of reviews\n",
    "\n",
    "Figure out how to divide the data so that we have a few well-populated bins that differentiate users by how many books they've rated"
   ]
  },
  {
   "cell_type": "code",
   "execution_count": 12,
   "metadata": {},
   "outputs": [
    {
     "data": {
      "image/png": "[encoded data removed]",
      "text/plain": [
       "<Figure size 432x288 with 1 Axes>"
      ]
     },
     "metadata": {
      "needs_background": "light"
     },
     "output_type": "display_data"
    }
   ],
   "source": [
    "n, bins, patches = plt.hist(x=counts, bins=[1,2,3,6,10,30,1062], color='#0504aa')"
   ]
  },
  {
   "cell_type": "code",
   "execution_count": 14,
   "metadata": {},
   "outputs": [
    {
     "name": "stdout",
     "output_type": "stream",
     "text": [
      "[22173.  5984.  5012.  1701.  1398.   368.]\n",
      "[0.60522437 0.16333661 0.13680533 0.04642974 0.03815919 0.01004476]\n"
     ]
    }
   ],
   "source": [
    "print(n)\n",
    "print(n/sum(n))"
   ]
  },
  {
   "cell_type": "markdown",
   "metadata": {},
   "source": [
    "... and then visualize the results in a pie chart and bar chart to see the breakdown more clearly!"
   ]
  },
  {
   "cell_type": "code",
   "execution_count": 15,
   "metadata": {},
   "outputs": [
    {
     "data": {
      "image/png": "[encoded data removed]",
      "text/plain": [
       "<Figure size 432x288 with 1 Axes>"
      ]
     },
     "metadata": {},
     "output_type": "display_data"
    }
   ],
   "source": [
    "labels=[\"1\",\"2\",\"3-5\",\"6-9\",\"10-29\",\"30+\"]\n",
    "sizes=n/sum(n)\n",
    "fig1, ax1 = plt.subplots()\n",
    "ax1.pie(sizes, explode=[0.1 for i in range(6)],labels=labels, autopct='%1.1f%%')\n",
    "ax1.axis('equal') \n",
    "plt.show()\n"
   ]
  },
  {
   "cell_type": "code",
   "execution_count": 16,
   "metadata": {},
   "outputs": [
    {
     "data": {
      "text/plain": [
       "<BarContainer object of 6 artists>"
      ]
     },
     "execution_count": 16,
     "metadata": {},
     "output_type": "execute_result"
    },
    {
     "data": {
      "image/png": "[encoded data removed]",
      "text/plain": [
       "<Figure size 432x288 with 1 Axes>"
      ]
     },
     "metadata": {
      "needs_background": "light"
     },
     "output_type": "display_data"
    }
   ],
   "source": [
    "plt.bar(labels,n)"
   ]
  },
  {
   "cell_type": "markdown",
   "metadata": {},
   "source": [
    "## Part 4: Set up data structures for later separation into training and testing sets"
   ]
  },
  {
   "cell_type": "markdown",
   "metadata": {},
   "source": [
    "First, we built a helper function that can help interpret a date string of the form 'Fri Jun 15 11:41:12 -0700 2012' as seen in part 1.1. By transforming this date into a number of the form YYYYMMDD, we can easily sort by date"
   ]
  },
  {
   "cell_type": "code",
   "execution_count": 17,
   "metadata": {},
   "outputs": [],
   "source": [
    "def interpret_date_string(date_string):\n",
    "    split=date_string.split(' ')\n",
    "    output_str=split[-1]\n",
    "    month_to_num={\"Jan\":\"01\",\"Feb\":\"02\",\"Mar\":\"03\",\"Apr\":\"04\",\"May\":\"05\",\"Jun\":\"06\",\"Jul\":\"07\",\n",
    "                 \"Aug\":\"08\",\"Sep\":\"09\",\"Oct\":\"10\",\"Nov\":\"11\",\"Dec\":\"12\"}\n",
    "    output_str=output_str+month_to_num[split[1]]+split[2]\n",
    "    return int(output_str)"
   ]
  },
  {
   "cell_type": "markdown",
   "metadata": {},
   "source": [
    "Next, we build a dictionary that contains user info. This data would end up being of the form: \n",
    "\n",
    "{ user_id : \\[ (date1, bookId1, rating1), (date2, bookId2, rating2), ...\\] }"
   ]
  },
  {
   "cell_type": "code",
   "execution_count": 18,
   "metadata": {},
   "outputs": [],
   "source": [
    "user_info={}\n",
    "for rating in data:\n",
    "    if rating['user_id'] not in user_info:\n",
    "        user_info[rating['user_id']]=[]\n",
    "    user_info[rating['user_id']].append((interpret_date_string(rating['date']),rating['book_id'],rating['rating']))"
   ]
  },
  {
   "cell_type": "markdown",
   "metadata": {},
   "source": [
    "Just a quick check to see that the data looks as expected."
   ]
  },
  {
   "cell_type": "code",
   "execution_count": 19,
   "metadata": {},
   "outputs": [
    {
     "name": "stdout",
     "output_type": "stream",
     "text": [
      "3ca7375dba942a760e53b726c472a7dd [(20120615, '402128', 5)]\n",
      "0ef32090550901ead25cb0ea21c4d36b [(20140414, '92270', 5)]\n",
      "d37b46b2190ed7c518259f29b47a9b36 [(20170930, '253264', 5)]\n",
      "f4c6fe33ef61c38f7f4aeb5224c259a5 [(20130507, '13105527', 5)]\n",
      "4672eb229c808b792b8ea95f01f19784 [(20141011, '1420', 1), (20160113, '1381', 3)]\n",
      "b54c83f02c748fe75ed309e1e12eace2 [(20121014, '15787122', 3)]\n",
      "f88032f4ad97b46654fe59ce3387cf5d [(20151017, '23668465', 4), (20140323, '18600808', 0), (20141230, '18745066', 4), (20131217, '1215884', 3), (20160217, '18141482', 5), (20130702, '3049', 2)]\n",
      "f2f95653b98e1a4a68c3beab1a7f8f5e [(20160330, '704880', 5)]\n",
      "7e4945a6266566e39e3f251fff0fdde1 [(20140912, '128436', 5)]\n",
      "6665fe2d574221577f8a5483a6f17844 [(20160225, '11958313', 5)]\n"
     ]
    }
   ],
   "source": [
    "c=0\n",
    "for user in user_info:\n",
    "    print(user,user_info[user])\n",
    "    c+=1\n",
    "    if c==10:\n",
    "        break"
   ]
  },
  {
   "cell_type": "markdown",
   "metadata": {},
   "source": [
    "## Part 5: Separate the training and testing sets\n",
    "\n",
    "For users with 2-5 ratings, only the last review goes into the testing set. \n",
    "\n",
    "For users with > 5 ratings, the most recent floor(0.2 * total_number_of_reviews) reviews go into the testing set.\n",
    "\n",
    "Create two dictionaries, one representing the training set and one representing the testing set.\n",
    "\n",
    "Categories of number of ratings: \"2\",\"3-5\",\"6-9\",\"10-29\",\"30+\", as determined by previous exploration"
   ]
  },
  {
   "cell_type": "code",
   "execution_count": 21,
   "metadata": {},
   "outputs": [],
   "source": [
    "training={\"book_ids\":[],\"user_ids\":[],\"ratings\":[]}\n",
    "testing={\"2\":[],\"3-5\":[],\"6-9\":[],\"10-29\":[],\"30+\":[]}\n",
    "for user in user_info:\n",
    "    l=len(user_info[user])\n",
    "    user_info[user].sort()\n",
    "    if l==2:\n",
    "        training[\"book_ids\"].append(user_info[user][0][1])\n",
    "        training[\"user_ids\"].append(user)\n",
    "        training[\"ratings\"].append(user_info[user][0][2])\n",
    "        testing[\"2\"].append([user,user_info[user][1][1],user_info[user][1][2]])\n",
    "    elif 3<=l<=5:\n",
    "        for i in range(l-1):\n",
    "            training[\"book_ids\"].append(user_info[user][i][1])\n",
    "            training[\"user_ids\"].append(user)\n",
    "            training[\"ratings\"].append(user_info[user][i][2])\n",
    "        testing[\"3-5\"].append([user,user_info[user][l-1][1],user_info[user][l-1][2]])\n",
    "    elif l>5:\n",
    "        cutoff=int(0.8*l)\n",
    "        for i in range(cutoff):\n",
    "            training[\"book_ids\"].append(user_info[user][i][1])\n",
    "            training[\"user_ids\"].append(user)\n",
    "            training[\"ratings\"].append(user_info[user][i][2])    \n",
    "        if l<=9:\n",
    "            for i in range(cutoff,l):\n",
    "                testing[\"6-9\"].append([user,user_info[user][i][1],user_info[user][i][2]])\n",
    "        elif l<=29:\n",
    "            for i in range(cutoff,l):\n",
    "                testing[\"10-29\"].append([user,user_info[user][i][1],user_info[user][i][2]])\n",
    "        else:\n",
    "            for i in range(cutoff,l):\n",
    "                testing[\"30+\"].append([user,user_info[user][i][1],user_info[user][i][2]])"
   ]
  },
  {
   "cell_type": "markdown",
   "metadata": {},
   "source": [
    "## Part 6: Set up and train KNN model using Surprise\n",
    "\n",
    "Documentation for this package: http://surpriselib.com/"
   ]
  },
  {
   "cell_type": "code",
   "execution_count": 33,
   "metadata": {},
   "outputs": [
    {
     "name": "stdout",
     "output_type": "stream",
     "text": [
      "Computing the cosine similarity matrix...\n"
     ]
    },
    {
     "name": "stderr",
     "output_type": "stream",
     "text": [
      "C:\\Users\\amand\\AppData\\Local\\Continuum\\anaconda3\\lib\\site-packages\\surprise\\prediction_algorithms\\algo_base.py:249: RuntimeWarning: invalid value encountered in double_scalars\n",
      "  sim = construction_func[name](*args)\n"
     ]
    },
    {
     "name": "stdout",
     "output_type": "stream",
     "text": [
      "Done computing similarity matrix.\n"
     ]
    },
    {
     "data": {
      "text/plain": [
       "<surprise.prediction_algorithms.knns.KNNWithMeans at 0x25508018fc8>"
      ]
     },
     "execution_count": 33,
     "metadata": {},
     "output_type": "execute_result"
    }
   ],
   "source": [
    "import surprise as sp\n",
    "\n",
    "df = pd.DataFrame(training)\n",
    "reader = sp.Reader(rating_scale=(1, 5))\n",
    "\n",
    "# Loads Pandas dataframe\n",
    "data = sp.Dataset.load_from_df(df[[\"user_ids\", \"book_ids\", \"ratings\"]], reader)\n",
    "\n",
    "sim_options = {\"name\": \"cosine\",\"user_based\": True}\n",
    "algo = sp.KNNWithMeans(sim_options=sim_options)\n",
    "\n",
    "trainingSet = data.build_full_trainset()\n",
    "\n",
    "algo.fit(trainingSet)\n"
   ]
  },
  {
   "cell_type": "markdown",
   "metadata": {},
   "source": [
    "## Part 7: Evaluation: Testing the algorithm on specific users\n",
    "\n",
    "First, find some users we can test the algorithm on. Then see what this algorithm predicts vs what the user actually rated the book."
   ]
  },
  {
   "cell_type": "code",
   "execution_count": 34,
   "metadata": {},
   "outputs": [
    {
     "name": "stdout",
     "output_type": "stream",
     "text": [
      "f88032f4ad97b46654fe59ce3387cf5d [(20130702, '3049', 2), (20131217, '1215884', 3), (20140323, '18600808', 0), (20141230, '18745066', 4), (20151017, '23668465', 4), (20160217, '18141482', 5)] \n",
      "\n",
      "5f550cc8d90df1759eda1496621187d8 [(20120605, '77760', 5), (20140226, '143505', 2), (20140226, '15997', 4), (20140919, '11737010', 4), (20160531, '20821025', 4), (20161108, '24925181', 3), (20161121, '20613761', 3)] \n",
      "\n",
      "d1e368a7d2870eb6fbf6e0d350568a2d [(20100709, '3873511', 2), (20111205, '10339809', 5), (20120319, '397743', 2), (20120705, '14361553', 5), (20140326, '7014471', 2), (20140712, '1577264', 3), (20141005, '20143862', 3), (20141104, '18166919', 3), (20150105, '20708745', 2), (20150115, '17243953', 3), (20150121, '14950010', 4), (20170118, '25066584', 3), (20170215, '9630712', 4), (20170227, '29102892', 3), (20170609, '30320055', 3)] \n",
      "\n",
      "f1be68e7aec2297644ee1fefe40b933d [(20081019, '699676', 5), (20090126, '195136', 4), (20090307, '104090', 3), (20090510, '102331', 2), (20110910, '593236', 4), (20120212, '150253', 5), (20170826, '1054593', 5)] \n",
      "\n",
      "bb1d3f753d7409a421dc6629eded2d8c [(20110201, '117336', 5), (20110407, '6772144', 4), (20121214, '676', 2), (20140106, '5974575', 1), (20140110, '2259243', 2), (20140110, '7313642', 4), (20140110, '7726844', 4), (20150201, '46199', 4), (20151031, '1382', 5)] \n",
      "\n",
      "13a8074a4cf64337edcf084b30b9a72a [(20150912, '1342574', 3), (20160202, '770591', 4), (20160418, '29939896', 4), (20160706, '772377', 4), (20160719, '30962870', 5), (20160806, '21450944', 5), (20160907, '25239055', 3), (20161010, '11475033', 3), (20161010, '13194134', 5), (20161010, '18106830', 3), (20161010, '20098464', 4), (20161010, '20333851', 4), (20161010, '24097400', 3), (20161010, '26112643', 4), (20161010, '3280203', 5), (20161019, '934756', 4), (20161214, '33014804', 3), (20170107, '30228086', 5), (20170129, '21864469', 5), (20170221, '76546', 5), (20170403, '28923793', 4), (20170403, '29429866', 4), (20170408, '25612087', 4), (20170707, '12202', 4), (20170719, '17571806', 4), (20170720, '33098315', 3), (20170823, '2459879', 3), (20170823, '27985170', 4), (20170827, '35783117', 4), (20170829, '22053959', 4), (20170911, '34146688', 5), (20170917, '1505014', 4), (20171003, '23876552', 4), (20171012, '1222263', 5), (20171020, '29936760', 4)] \n",
      "\n",
      "246eac0ca4d02e73d8768a5acb9b89d7 [(20080515, '559059', 0), (20080515, '716872', 0), (20080515, '782580', 0), (20091205, '30119', 3), (20100718, '3147630', 2), (20101012, '401900', 4), (20101013, '123902', 3), (20111114, '996521', 3), (20140123, '199009', 2), (20160429, '18822259', 4), (20160516, '206641', 1), (20170321, '20413', 3), (20170321, '596810', 0), (20171014, '1420', 4)] \n",
      "\n",
      "30a338533ba0445b58852b5dacc8836e [(20120609, '5932', 4), (20120614, '65335', 5), (20130407, '378495', 3), (20131119, '13160705', 4), (20131119, '17185500', 4), (20140223, '380188', 4), (20140524, '18519037', 3), (20140711, '20605839', 3), (20141001, '20702539', 4), (20141102, '20613761', 4), (20150209, '11535502', 4), (20150209, '225750', 4)] \n",
      "\n",
      "28b5d9511a8d84230291653b665c4044 [(20110426, '11191294', 5), (20110519, '3873511', 4), (20120301, '13506775', 5), (20120328, '12687590', 5), (20120611, '13506771', 5), (20120828, '14762057', 5)] \n",
      "\n",
      "f9d166ab9038f2ea54dff7c639cc7cd2 [(20090709, '186757', 3), (20150804, '18636916', 3), (20150807, '18263725', 5), (20161206, '1420', 3), (20161206, '1589254', 4), (20170521, '29093222', 4), (20170711, '20799958', 4)] \n",
      "\n"
     ]
    }
   ],
   "source": [
    "c=0\n",
    "for user in user_info:\n",
    "    if len(user_info[user])>5:\n",
    "        print(user,user_info[user],'\\n')\n",
    "        c+=1\n",
    "    if c==10:\n",
    "        break"
   ]
  },
  {
   "cell_type": "code",
   "execution_count": 35,
   "metadata": {},
   "outputs": [
    {
     "name": "stdout",
     "output_type": "stream",
     "text": [
      "Model's prediction:  3.9642857142857144\n",
      "Actual Rating: 4\n"
     ]
    }
   ],
   "source": [
    "# Can choose these values from the above lists (just check that the book chosen is not in the training set)\n",
    "user_id_to_predict='13a8074a4cf64337edcf084b30b9a72a'\n",
    "book_id_to_predict='1505014'\n",
    "\n",
    "prediction = algo.predict(user_id_to_predict,book_id_to_predict)\n",
    "print('Model\\'s prediction: ',prediction.est)\n",
    "\n",
    "# Find actual rating for the book\n",
    "user_to_predict_num_ratings=len(user_info[user_id_to_predict])\n",
    "for i in range(user_to_predict_num_ratings):\n",
    "    if user_info[user_id_to_predict][user_to_predict_num_ratings-i-1][1]==book_id_to_predict:\n",
    "        actual_rating_for_prediction=user_info[user_id_to_predict][user_to_predict_num_ratings-i-1][2]\n",
    "        \n",
    "print('Actual Rating:',actual_rating_for_prediction)"
   ]
  },
  {
   "cell_type": "markdown",
   "metadata": {},
   "source": [
    "## Part 8: Evaluation: Calculating error metrics for model overall, separated by number of ratings \n",
    "\n",
    "The primary reason for dividing these error metrics by bin is so we can see how the model results compare as we know more about each user"
   ]
  },
  {
   "cell_type": "code",
   "execution_count": 36,
   "metadata": {},
   "outputs": [
    {
     "name": "stdout",
     "output_type": "stream",
     "text": [
      "Category of users who rated 2 poetry books.\n",
      "Precision: 0.7597066436583262\n",
      "Recall: 0.8221288515406162\n",
      "F1 score: 0.7896860986547085\n",
      "\n",
      "True positives: 3522\n",
      "True negatives: 586\n",
      "False positives: 1114\n",
      "False negatives: 762\n",
      "------------------------------------------------\n",
      "Category of users who rated 3-5 poetry books.\n",
      "Precision: 0.7550761421319797\n",
      "Recall: 0.8399209486166008\n",
      "F1 score: 0.7952419139267576\n",
      "\n",
      "True positives: 2975\n",
      "True negatives: 505\n",
      "False positives: 965\n",
      "False negatives: 567\n",
      "------------------------------------------------\n",
      "Category of users who rated 6-9 poetry books.\n",
      "Precision: 0.7502807937102209\n",
      "Recall: 0.8459265512874631\n",
      "F1 score: 0.7952380952380952\n",
      "\n",
      "True positives: 2004\n",
      "True negatives: 366\n",
      "False positives: 667\n",
      "False negatives: 365\n",
      "------------------------------------------------\n",
      "Category of users who rated 10-29 poetry books.\n",
      "Precision: 0.7719115734720416\n",
      "Recall: 0.8558246828143022\n",
      "F1 score: 0.8117051825516204\n",
      "\n",
      "True positives: 2968\n",
      "True negatives: 454\n",
      "False positives: 877\n",
      "False negatives: 500\n",
      "------------------------------------------------\n",
      "Category of users who rated 30+ poetry books.\n",
      "Precision: 0.7678258694020516\n",
      "Recall: 0.8584615384615385\n",
      "F1 score: 0.8106180665610143\n",
      "\n",
      "True positives: 3069\n",
      "True negatives: 415\n",
      "False positives: 928\n",
      "False negatives: 506\n",
      "------------------------------------------------\n"
     ]
    }
   ],
   "source": [
    "for category in [\"2\",\"3-5\",\"6-9\",\"10-29\",\"30+\"]:\n",
    "    tp,tn,fp,fn=0,0,0,0 # True positive, true negative, false positive, false negative\n",
    "    for userid,bookid,bookrating in testing[category]: # list of lists of userid,bookid,rating\n",
    "        prediction = algo.predict(userid,bookid)\n",
    "        if prediction.est>=3.5:\n",
    "            if bookrating>3.5:\n",
    "                tp+=1\n",
    "            else:\n",
    "                fp+=1\n",
    "        else:\n",
    "            if bookrating>3.5:\n",
    "                fn+=1\n",
    "            else:\n",
    "                tn+=1\n",
    "    print(\"Category of users who rated \"+category+\" poetry books.\")\n",
    "    if tp+fp!=0:\n",
    "        print(\"Precision:\",str(tp/(tp+fp)))\n",
    "    if tp+fn!=0:\n",
    "        print(\"Recall:\",str(tp/(tp+fn)))\n",
    "    if tp+0.5*(fp+fn)!=0:\n",
    "        print(\"F1 score:\",str(tp/(tp+0.5*(fp+fn))))\n",
    "    print()\n",
    "    print(\"True positives:\",tp)\n",
    "    print(\"True negatives:\",tn)\n",
    "    print(\"False positives:\",fp)\n",
    "    print(\"False negatives:\",fn)\n",
    "    print(\"------------------------------------------------\")"
   ]
  },
  {
   "cell_type": "markdown",
   "metadata": {},
   "source": [
    "## Part 9: Trying other variations of KNN models\n",
    "\n",
    "Repeat steps 6 + 8 using other parameters and variations of the KNN model"
   ]
  },
  {
   "cell_type": "code",
   "execution_count": 42,
   "metadata": {},
   "outputs": [
    {
     "name": "stdout",
     "output_type": "stream",
     "text": [
      "MODEL DETAILS: KNNWithMeans using cosine similarity\n",
      "Precision: 0.7615904447587616\n",
      "Recall: 0.843369300382875\n",
      "F1 score: 0.8003963993723676\n",
      "\n",
      "True positives: 14538\n",
      "True negatives: 2326\n",
      "False positives: 4551\n",
      "False negatives: 2700\n",
      "---------------------------------------------------------\n",
      "MODEL DETAILS: KNNWithMeans using msd similarity\n",
      "Precision: 0.7616053651891439\n",
      "Recall: 0.8432532776424179\n",
      "F1 score: 0.8003523840986676\n",
      "\n",
      "True positives: 14536\n",
      "True negatives: 2327\n",
      "False positives: 4550\n",
      "False negatives: 2702\n",
      "---------------------------------------------------------\n",
      "MODEL DETAILS: KNNWithMeans using pearson similarity\n",
      "Precision: 0.757287024230316\n",
      "Recall: 0.8575820860888734\n",
      "F1 score: 0.8043200304687288\n",
      "\n",
      "True positives: 14783\n",
      "True negatives: 2139\n",
      "False positives: 4738\n",
      "False negatives: 2455\n",
      "---------------------------------------------------------\n",
      "MODEL DETAILS: KNNWithMeans using pearson_baseline similarity\n",
      "Precision: 0.7582213987957388\n",
      "Recall: 0.8546815175774451\n",
      "F1 score: 0.8035670457334533\n",
      "\n",
      "True positives: 14733\n",
      "True negatives: 2179\n",
      "False positives: 4698\n",
      "False negatives: 2505\n",
      "---------------------------------------------------------\n",
      "MODEL DETAILS: KNNWithZScore using cosine similarity\n",
      "Precision: 0.7602242059373053\n",
      "Recall: 0.8497505511080171\n",
      "F1 score: 0.8024982194707719\n",
      "\n",
      "True positives: 14648\n",
      "True negatives: 2257\n",
      "False positives: 4620\n",
      "False negatives: 2590\n",
      "---------------------------------------------------------\n",
      "MODEL DETAILS: KNNWithZScore using msd similarity\n",
      "Precision: 0.7606313931149074\n",
      "Recall: 0.8498085624782458\n",
      "F1 score: 0.8027509110337836\n",
      "\n",
      "True positives: 14649\n",
      "True negatives: 2267\n",
      "False positives: 4610\n",
      "False negatives: 2589\n",
      "---------------------------------------------------------\n",
      "MODEL DETAILS: KNNWithZScore using pearson similarity\n",
      "Precision: 0.7572632116415624\n",
      "Recall: 0.8603666318598445\n",
      "F1 score: 0.8055291529750428\n",
      "\n",
      "True positives: 14831\n",
      "True negatives: 2123\n",
      "False positives: 4754\n",
      "False negatives: 2407\n",
      "---------------------------------------------------------\n",
      "MODEL DETAILS: KNNWithZScore using pearson_baseline similarity\n",
      "Precision: 0.7579875891071337\n",
      "Recall: 0.8574080519781877\n",
      "F1 score: 0.8046383754797616\n",
      "\n",
      "True positives: 14780\n",
      "True negatives: 2158\n",
      "False positives: 4719\n",
      "False negatives: 2458\n",
      "---------------------------------------------------------\n",
      "MODEL DETAILS: KNNBaseline using cosine similarity\n",
      "Precision: 0.7478089184243475\n",
      "Recall: 0.9008585682793827\n",
      "F1 score: 0.8172297652878644\n",
      "\n",
      "True positives: 15529\n",
      "True negatives: 1640\n",
      "False positives: 5237\n",
      "False negatives: 1709\n",
      "---------------------------------------------------------\n",
      "MODEL DETAILS: KNNBaseline using msd similarity\n",
      "Precision: 0.7491666264070728\n",
      "Recall: 0.8995823181343543\n",
      "F1 score: 0.8175132456440941\n",
      "\n",
      "True positives: 15507\n",
      "True negatives: 1685\n",
      "False positives: 5192\n",
      "False negatives: 1731\n",
      "---------------------------------------------------------\n",
      "MODEL DETAILS: KNNBaseline using pearson similarity\n",
      "Precision: 0.7449338391783104\n",
      "Recall: 0.9340410720501219\n",
      "F1 score: 0.8288376402759189\n",
      "\n",
      "True positives: 16101\n",
      "True negatives: 1364\n",
      "False positives: 5513\n",
      "False negatives: 1137\n",
      "---------------------------------------------------------\n",
      "MODEL DETAILS: KNNBaseline using pearson_baseline similarity\n",
      "Precision: 0.7456650086002511\n",
      "Recall: 0.9305023784661793\n",
      "F1 score: 0.8278923327053601\n",
      "\n",
      "True positives: 16040\n",
      "True negatives: 1406\n",
      "False positives: 5471\n",
      "False negatives: 1198\n",
      "---------------------------------------------------------\n"
     ]
    }
   ],
   "source": [
    "for model_var in [sp.KNNWithMeans,sp.KNNWithZScore,sp.KNNBaseline]:\n",
    "    for sim_name in ['cosine','msd','pearson','pearson_baseline']:\n",
    "        print(\"MODEL DETAILS:\",str(model_var)[44:-2],'using',sim_name,'similarity')\n",
    "        ###################### STEP 6 #########################\n",
    "\n",
    "        df = pd.DataFrame(training)\n",
    "        reader = sp.Reader(rating_scale=(1, 5))\n",
    "\n",
    "        # Loads Pandas dataframe\n",
    "        data = sp.Dataset.load_from_df(df[[\"user_ids\", \"book_ids\", \"ratings\"]], reader)\n",
    "\n",
    "        sim_options = {\"name\": sim_name,\"user_based\": True}\n",
    "        algo = model_var(sim_options=sim_options,verbose=False)\n",
    "\n",
    "        trainingSet = data.build_full_trainset()\n",
    "\n",
    "        algo.fit(trainingSet)\n",
    "\n",
    "        ####################### STEP 8 variation ########################\n",
    "        # Because there will be a lot of things being printed, only overall stats are shown\n",
    "        \n",
    "        tp,tn,fp,fn=0,0,0,0 # True positive, true negative, false positive, false negative\n",
    "        for category in [\"2\",\"3-5\",\"6-9\",\"10-29\",\"30+\"]:\n",
    "            for userid,bookid,bookrating in testing[category]: # list of lists of userid,bookid,rating\n",
    "                prediction = algo.predict(userid,bookid)\n",
    "                if prediction.est>=3.5:\n",
    "                    if bookrating>3.5:\n",
    "                        tp+=1\n",
    "                    else:\n",
    "                        fp+=1\n",
    "                else:\n",
    "                    if bookrating>3.5:\n",
    "                        fn+=1\n",
    "                    else:\n",
    "                        tn+=1\n",
    "        if tp+fp!=0:\n",
    "            print(\"Precision:\",str(tp/(tp+fp)))\n",
    "        if tp+fn!=0:\n",
    "            print(\"Recall:\",str(tp/(tp+fn)))\n",
    "        if tp+0.5*(fp+fn)!=0:\n",
    "            print(\"F1 score:\",str(tp/(tp+0.5*(fp+fn))))\n",
    "        print()\n",
    "        print(\"True positives:\",tp)\n",
    "        print(\"True negatives:\",tn)\n",
    "        print(\"False positives:\",fp)\n",
    "        print(\"False negatives:\",fn)\n",
    "        print(\"---------------------------------------------------------\")\n"
   ]
  },
  {
   "cell_type": "markdown",
   "metadata": {},
   "source": [
    "We can see that the F1 scores are the highest for the KNN Baseline mode, but there is a notable imbalance between the number of false negatives and false positives. "
   ]
  },
  {
   "cell_type": "markdown",
   "metadata": {},
   "source": [
    "## Part 10: Trying some matrix factorization based algorithms"
   ]
  },
  {
   "cell_type": "code",
   "execution_count": 46,
   "metadata": {},
   "outputs": [
    {
     "name": "stdout",
     "output_type": "stream",
     "text": [
      "MODEL DETAILS: SVD using 10 epochs\n",
      "Precision: 0.7433789954337899\n",
      "Recall: 0.9444251073210349\n",
      "F1 score: 0.8319280494659921\n",
      "\n",
      "True positives: 16280\n",
      "True negatives: 1257\n",
      "False positives: 5620\n",
      "False negatives: 958\n",
      "---------------------------------------------------------\n",
      "MODEL DETAILS: SVD using 20 epochs\n",
      "Precision: 0.7551626659000527\n",
      "Recall: 0.9143172061724097\n",
      "F1 score: 0.8271536907292241\n",
      "\n",
      "True positives: 15761\n",
      "True negatives: 1767\n",
      "False positives: 5110\n",
      "False negatives: 1477\n",
      "---------------------------------------------------------\n",
      "MODEL DETAILS: SVD using 30 epochs\n",
      "Precision: 0.7596007277376211\n",
      "Recall: 0.896159647290869\n",
      "F1 score: 0.8222488356620093\n",
      "\n",
      "True positives: 15448\n",
      "True negatives: 1988\n",
      "False positives: 4889\n",
      "False negatives: 1790\n",
      "---------------------------------------------------------\n",
      "MODEL DETAILS: SVD using 50 epochs\n",
      "Precision: 0.7644204034174208\n",
      "Recall: 0.8771899292261284\n",
      "F1 score: 0.816931845808909\n",
      "\n",
      "True positives: 15121\n",
      "True negatives: 2217\n",
      "False positives: 4660\n",
      "False negatives: 2117\n",
      "---------------------------------------------------------\n",
      "MODEL DETAILS: SVD using 100 epochs\n",
      "Precision: 0.7689220478518137\n",
      "Recall: 0.8669219166956723\n",
      "F1 score: 0.8149865023314155\n",
      "\n",
      "True positives: 14944\n",
      "True negatives: 2386\n",
      "False positives: 4491\n",
      "False negatives: 2294\n",
      "---------------------------------------------------------\n",
      "MODEL DETAILS: SVDpp using 10 epochs\n",
      "Precision: 0.7479614183868413\n",
      "Recall: 0.9311985149089221\n",
      "F1 score: 0.8295821597457299\n",
      "\n",
      "True positives: 16052\n",
      "True negatives: 1468\n",
      "False positives: 5409\n",
      "False negatives: 1186\n",
      "---------------------------------------------------------\n",
      "MODEL DETAILS: SVDpp using 20 epochs\n",
      "Precision: 0.7615327564894933\n",
      "Recall: 0.893491124260355\n",
      "F1 score: 0.8222512879374316\n",
      "\n",
      "True positives: 15402\n",
      "True negatives: 2054\n",
      "False positives: 4823\n",
      "False negatives: 1836\n",
      "---------------------------------------------------------\n",
      "MODEL DETAILS: SVDpp using 30 epochs\n",
      "Precision: 0.7663060120445034\n",
      "Recall: 0.8710407239819005\n",
      "F1 score: 0.8153236316246742\n",
      "\n",
      "True positives: 15015\n",
      "True negatives: 2298\n",
      "False positives: 4579\n",
      "False negatives: 2223\n",
      "---------------------------------------------------------\n",
      "MODEL DETAILS: SVDpp using 50 epochs\n",
      "Precision: 0.7709500130855796\n",
      "Recall: 0.8544494720965309\n",
      "F1 score: 0.8105549899568005\n",
      "\n",
      "True positives: 14729\n",
      "True negatives: 2501\n",
      "False positives: 4376\n",
      "False negatives: 2509\n",
      "---------------------------------------------------------\n",
      "MODEL DETAILS: SVDpp using 100 epochs\n",
      "Precision: 0.7731540759709774\n",
      "Recall: 0.840700777352361\n",
      "F1 score: 0.8055138680451337\n",
      "\n",
      "True positives: 14492\n",
      "True negatives: 2625\n",
      "False positives: 4252\n",
      "False negatives: 2746\n",
      "---------------------------------------------------------\n"
     ]
    }
   ],
   "source": [
    "for model_var in [sp.SVD,sp.SVDpp]:\n",
    "    for num_epochs in [10,20,30,50,100]:\n",
    "        print(\"MODEL DETAILS:\",str(model_var)[60:-2],'using',num_epochs,'epochs')\n",
    "        ###################### STEP 6 #########################\n",
    "\n",
    "        df = pd.DataFrame(training)\n",
    "        reader = sp.Reader(rating_scale=(1, 5))\n",
    "\n",
    "        # Loads Pandas dataframe\n",
    "        data = sp.Dataset.load_from_df(df[[\"user_ids\", \"book_ids\", \"ratings\"]], reader)\n",
    "\n",
    "        algo = model_var(n_epochs=num_epochs)\n",
    "\n",
    "        trainingSet = data.build_full_trainset()\n",
    "\n",
    "        algo.fit(trainingSet)\n",
    "\n",
    "        ####################### STEP 8 variation ########################\n",
    "        # Because there will be a lot of things being printed, only overall stats are shown\n",
    "        \n",
    "        tp,tn,fp,fn=0,0,0,0 # True positive, true negative, false positive, false negative\n",
    "        for category in [\"2\",\"3-5\",\"6-9\",\"10-29\",\"30+\"]:\n",
    "            for userid,bookid,bookrating in testing[category]: # list of lists of userid,bookid,rating\n",
    "                prediction = algo.predict(userid,bookid)\n",
    "                if prediction.est>=3.5:\n",
    "                    if bookrating>3.5:\n",
    "                        tp+=1\n",
    "                    else:\n",
    "                        fp+=1\n",
    "                else:\n",
    "                    if bookrating>3.5:\n",
    "                        fn+=1\n",
    "                    else:\n",
    "                        tn+=1\n",
    "        if tp+fp!=0:\n",
    "            print(\"Precision:\",str(tp/(tp+fp)))\n",
    "        if tp+fn!=0:\n",
    "            print(\"Recall:\",str(tp/(tp+fn)))\n",
    "        if tp+0.5*(fp+fn)!=0:\n",
    "            print(\"F1 score:\",str(tp/(tp+0.5*(fp+fn))))\n",
    "        print()\n",
    "        print(\"True positives:\",tp)\n",
    "        print(\"True negatives:\",tn)\n",
    "        print(\"False positives:\",fp)\n",
    "        print(\"False negatives:\",fn)\n",
    "        print(\"---------------------------------------------------------\")\n",
    "        \n"
   ]
  }
 ],
 "metadata": {
  "kernelspec": {
   "display_name": "Python 3",
   "language": "python",
   "name": "python3"
  },
  "language_info": {
   "codemirror_mode": {
    "name": "ipython",
    "version": 3
   },
   "file_extension": ".py",
   "mimetype": "text/x-python",
   "name": "python",
   "nbconvert_exporter": "python",
   "pygments_lexer": "ipython3",
   "version": "3.7.4"
  }
 },
 "nbformat": 4,
 "nbformat_minor": 4
}
