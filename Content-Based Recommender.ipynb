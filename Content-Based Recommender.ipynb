{
 "cells": [
  {
   "cell_type": "code",
   "execution_count": 1,
   "id": "f1801d26",
   "metadata": {},
   "outputs": [],
   "source": [
    "import pandas as pd\n",
    "from sklearn.feature_extraction.text import TfidfVectorizer\n",
    "from sklearn.metrics.pairwise import linear_kernel"
   ]
  },
  {
   "cell_type": "markdown",
   "id": "394ef159",
   "metadata": {},
   "source": [
    "## Step 1: Importing Data"
   ]
  },
  {
   "cell_type": "markdown",
   "id": "4fb94c1b",
   "metadata": {},
   "source": [
    "### Import poetry book and review JSON files"
   ]
  },
  {
   "cell_type": "code",
   "execution_count": 2,
   "id": "86dacb65",
   "metadata": {},
   "outputs": [],
   "source": [
    "books = pd.read_json(\"poetry_data/goodreads_books_poetry.json\", lines = True)\n",
    "reviews = pd.read_json(\"poetry_data/goodreads_reviews_poetry.json\", lines = True)"
   ]
  },
  {
   "cell_type": "markdown",
   "id": "5a26c970",
   "metadata": {},
   "source": [
    "### Displaying first 5 books  (show some sample data 😊)"
   ]
  },
  {
   "cell_type": "code",
   "execution_count": 3,
   "id": "b171a416",
   "metadata": {},
   "outputs": [
    {
     "data": {
      "text/html": [
       "<div>\n",
       "<style scoped>\n",
       "    .dataframe tbody tr th:only-of-type {\n",
       "        vertical-align: middle;\n",
       "    }\n",
       "\n",
       "    .dataframe tbody tr th {\n",
       "        vertical-align: top;\n",
       "    }\n",
       "\n",
       "    .dataframe thead th {\n",
       "        text-align: right;\n",
       "    }\n",
       "</style>\n",
       "<table border=\"1\" class=\"dataframe\">\n",
       "  <thead>\n",
       "    <tr style=\"text-align: right;\">\n",
       "      <th></th>\n",
       "      <th>isbn</th>\n",
       "      <th>text_reviews_count</th>\n",
       "      <th>series</th>\n",
       "      <th>country_code</th>\n",
       "      <th>language_code</th>\n",
       "      <th>popular_shelves</th>\n",
       "      <th>asin</th>\n",
       "      <th>is_ebook</th>\n",
       "      <th>average_rating</th>\n",
       "      <th>kindle_asin</th>\n",
       "      <th>...</th>\n",
       "      <th>publication_month</th>\n",
       "      <th>edition_information</th>\n",
       "      <th>publication_year</th>\n",
       "      <th>url</th>\n",
       "      <th>image_url</th>\n",
       "      <th>book_id</th>\n",
       "      <th>ratings_count</th>\n",
       "      <th>work_id</th>\n",
       "      <th>title</th>\n",
       "      <th>title_without_series</th>\n",
       "    </tr>\n",
       "  </thead>\n",
       "  <tbody>\n",
       "    <tr>\n",
       "      <th>0</th>\n",
       "      <td></td>\n",
       "      <td>1</td>\n",
       "      <td>[]</td>\n",
       "      <td>US</td>\n",
       "      <td>eng</td>\n",
       "      <td>[{'count': '8', 'name': 'to-read'}, {'count': ...</td>\n",
       "      <td></td>\n",
       "      <td>false</td>\n",
       "      <td>3.83</td>\n",
       "      <td></td>\n",
       "      <td>...</td>\n",
       "      <td>11</td>\n",
       "      <td></td>\n",
       "      <td>1887</td>\n",
       "      <td>https://www.goodreads.com/book/show/16037549-v...</td>\n",
       "      <td>https://images.gr-assets.com/books/1348176637m...</td>\n",
       "      <td>16037549</td>\n",
       "      <td>3</td>\n",
       "      <td>5212748</td>\n",
       "      <td>Vision of Sir Launfal and Other Poems</td>\n",
       "      <td>Vision of Sir Launfal and Other Poems</td>\n",
       "    </tr>\n",
       "    <tr>\n",
       "      <th>1</th>\n",
       "      <td>0811223981</td>\n",
       "      <td>2</td>\n",
       "      <td>[]</td>\n",
       "      <td>US</td>\n",
       "      <td></td>\n",
       "      <td>[{'count': '100', 'name': 'to-read'}, {'count'...</td>\n",
       "      <td></td>\n",
       "      <td>false</td>\n",
       "      <td>3.83</td>\n",
       "      <td>B00U2WY9U8</td>\n",
       "      <td>...</td>\n",
       "      <td>4</td>\n",
       "      <td></td>\n",
       "      <td>2015</td>\n",
       "      <td>https://www.goodreads.com/book/show/22466716-f...</td>\n",
       "      <td>https://images.gr-assets.com/books/1404958407m...</td>\n",
       "      <td>22466716</td>\n",
       "      <td>37</td>\n",
       "      <td>41905435</td>\n",
       "      <td>Fairy Tales: Dramolettes</td>\n",
       "      <td>Fairy Tales: Dramolettes</td>\n",
       "    </tr>\n",
       "    <tr>\n",
       "      <th>2</th>\n",
       "      <td>0374428115</td>\n",
       "      <td>7</td>\n",
       "      <td>[]</td>\n",
       "      <td>US</td>\n",
       "      <td></td>\n",
       "      <td>[{'count': '32', 'name': 'to-read'}, {'count':...</td>\n",
       "      <td></td>\n",
       "      <td>false</td>\n",
       "      <td>4.38</td>\n",
       "      <td></td>\n",
       "      <td>...</td>\n",
       "      <td>7</td>\n",
       "      <td></td>\n",
       "      <td>2008</td>\n",
       "      <td>https://www.goodreads.com/book/show/926662.Gro...</td>\n",
       "      <td>https://s.gr-assets.com/assets/nophoto/book/11...</td>\n",
       "      <td>926662</td>\n",
       "      <td>45</td>\n",
       "      <td>911665</td>\n",
       "      <td>Growltiger's Last Stand and Other Poems</td>\n",
       "      <td>Growltiger's Last Stand and Other Poems</td>\n",
       "    </tr>\n",
       "    <tr>\n",
       "      <th>3</th>\n",
       "      <td>0156182890</td>\n",
       "      <td>12</td>\n",
       "      <td>[]</td>\n",
       "      <td>US</td>\n",
       "      <td></td>\n",
       "      <td>[{'count': '554', 'name': 'to-read'}, {'count'...</td>\n",
       "      <td></td>\n",
       "      <td>false</td>\n",
       "      <td>3.71</td>\n",
       "      <td>B00IWTRB1W</td>\n",
       "      <td>...</td>\n",
       "      <td>3</td>\n",
       "      <td></td>\n",
       "      <td>1964</td>\n",
       "      <td>https://www.goodreads.com/book/show/926667.The...</td>\n",
       "      <td>https://images.gr-assets.com/books/1382939971m...</td>\n",
       "      <td>926667</td>\n",
       "      <td>115</td>\n",
       "      <td>995066</td>\n",
       "      <td>The Cocktail Party</td>\n",
       "      <td>The Cocktail Party</td>\n",
       "    </tr>\n",
       "    <tr>\n",
       "      <th>4</th>\n",
       "      <td>1942004192</td>\n",
       "      <td>4</td>\n",
       "      <td>[]</td>\n",
       "      <td>US</td>\n",
       "      <td>eng</td>\n",
       "      <td>[{'count': '228', 'name': 'to-read'}, {'count'...</td>\n",
       "      <td></td>\n",
       "      <td>false</td>\n",
       "      <td>5.00</td>\n",
       "      <td></td>\n",
       "      <td>...</td>\n",
       "      <td>12</td>\n",
       "      <td>First</td>\n",
       "      <td>2015</td>\n",
       "      <td>https://www.goodreads.com/book/show/29065952-l...</td>\n",
       "      <td>https://images.gr-assets.com/books/1455198396m...</td>\n",
       "      <td>29065952</td>\n",
       "      <td>9</td>\n",
       "      <td>49294781</td>\n",
       "      <td>Louder Than Everything You Love</td>\n",
       "      <td>Louder Than Everything You Love</td>\n",
       "    </tr>\n",
       "  </tbody>\n",
       "</table>\n",
       "<p>5 rows × 29 columns</p>\n",
       "</div>"
      ],
      "text/plain": [
       "         isbn  text_reviews_count series country_code language_code  \\\n",
       "0                               1     []           US           eng   \n",
       "1  0811223981                   2     []           US                 \n",
       "2  0374428115                   7     []           US                 \n",
       "3  0156182890                  12     []           US                 \n",
       "4  1942004192                   4     []           US           eng   \n",
       "\n",
       "                                     popular_shelves asin is_ebook  \\\n",
       "0  [{'count': '8', 'name': 'to-read'}, {'count': ...         false   \n",
       "1  [{'count': '100', 'name': 'to-read'}, {'count'...         false   \n",
       "2  [{'count': '32', 'name': 'to-read'}, {'count':...         false   \n",
       "3  [{'count': '554', 'name': 'to-read'}, {'count'...         false   \n",
       "4  [{'count': '228', 'name': 'to-read'}, {'count'...         false   \n",
       "\n",
       "   average_rating kindle_asin  ... publication_month edition_information  \\\n",
       "0            3.83              ...                11                       \n",
       "1            3.83  B00U2WY9U8  ...                 4                       \n",
       "2            4.38              ...                 7                       \n",
       "3            3.71  B00IWTRB1W  ...                 3                       \n",
       "4            5.00              ...                12               First   \n",
       "\n",
       "  publication_year                                                url  \\\n",
       "0             1887  https://www.goodreads.com/book/show/16037549-v...   \n",
       "1             2015  https://www.goodreads.com/book/show/22466716-f...   \n",
       "2             2008  https://www.goodreads.com/book/show/926662.Gro...   \n",
       "3             1964  https://www.goodreads.com/book/show/926667.The...   \n",
       "4             2015  https://www.goodreads.com/book/show/29065952-l...   \n",
       "\n",
       "                                           image_url   book_id ratings_count  \\\n",
       "0  https://images.gr-assets.com/books/1348176637m...  16037549             3   \n",
       "1  https://images.gr-assets.com/books/1404958407m...  22466716            37   \n",
       "2  https://s.gr-assets.com/assets/nophoto/book/11...    926662            45   \n",
       "3  https://images.gr-assets.com/books/1382939971m...    926667           115   \n",
       "4  https://images.gr-assets.com/books/1455198396m...  29065952             9   \n",
       "\n",
       "    work_id                                    title  \\\n",
       "0   5212748    Vision of Sir Launfal and Other Poems   \n",
       "1  41905435                 Fairy Tales: Dramolettes   \n",
       "2    911665  Growltiger's Last Stand and Other Poems   \n",
       "3    995066                       The Cocktail Party   \n",
       "4  49294781          Louder Than Everything You Love   \n",
       "\n",
       "                      title_without_series  \n",
       "0    Vision of Sir Launfal and Other Poems  \n",
       "1                 Fairy Tales: Dramolettes  \n",
       "2  Growltiger's Last Stand and Other Poems  \n",
       "3                       The Cocktail Party  \n",
       "4          Louder Than Everything You Love  \n",
       "\n",
       "[5 rows x 29 columns]"
      ]
     },
     "execution_count": 3,
     "metadata": {},
     "output_type": "execute_result"
    }
   ],
   "source": [
    "books.head()"
   ]
  },
  {
   "cell_type": "markdown",
   "id": "844e9aa9",
   "metadata": {},
   "source": [
    "### Displaying first 5 reviews (show some sample data 😊)"
   ]
  },
  {
   "cell_type": "code",
   "execution_count": 4,
   "id": "80eb0c8b",
   "metadata": {},
   "outputs": [
    {
     "data": {
      "text/html": [
       "<div>\n",
       "<style scoped>\n",
       "    .dataframe tbody tr th:only-of-type {\n",
       "        vertical-align: middle;\n",
       "    }\n",
       "\n",
       "    .dataframe tbody tr th {\n",
       "        vertical-align: top;\n",
       "    }\n",
       "\n",
       "    .dataframe thead th {\n",
       "        text-align: right;\n",
       "    }\n",
       "</style>\n",
       "<table border=\"1\" class=\"dataframe\">\n",
       "  <thead>\n",
       "    <tr style=\"text-align: right;\">\n",
       "      <th></th>\n",
       "      <th>user_id</th>\n",
       "      <th>book_id</th>\n",
       "      <th>review_id</th>\n",
       "      <th>rating</th>\n",
       "      <th>review_text</th>\n",
       "      <th>date_added</th>\n",
       "      <th>date_updated</th>\n",
       "      <th>read_at</th>\n",
       "      <th>started_at</th>\n",
       "      <th>n_votes</th>\n",
       "      <th>n_comments</th>\n",
       "    </tr>\n",
       "  </thead>\n",
       "  <tbody>\n",
       "    <tr>\n",
       "      <th>0</th>\n",
       "      <td>3ca7375dba942a760e53b726c472a7dd</td>\n",
       "      <td>402128</td>\n",
       "      <td>28423ff309bc896c071a8d9df4a10e8a</td>\n",
       "      <td>5</td>\n",
       "      <td>I have three younger siblings and we grew up w...</td>\n",
       "      <td>Tue Jun 12 08:59:04 -0700 2012</td>\n",
       "      <td>Fri Jun 15 11:41:12 -0700 2012</td>\n",
       "      <td></td>\n",
       "      <td></td>\n",
       "      <td>0</td>\n",
       "      <td>0</td>\n",
       "    </tr>\n",
       "    <tr>\n",
       "      <th>1</th>\n",
       "      <td>0ef32090550901ead25cb0ea21c4d36b</td>\n",
       "      <td>92270</td>\n",
       "      <td>2db1180992e2b0b1631a3ac5644bde84</td>\n",
       "      <td>5</td>\n",
       "      <td>This is my favorite collection of poetry.</td>\n",
       "      <td>Mon Apr 14 18:42:40 -0700 2014</td>\n",
       "      <td>Mon Apr 14 18:43:05 -0700 2014</td>\n",
       "      <td>Wed Jan 01 00:00:00 -0800 1997</td>\n",
       "      <td></td>\n",
       "      <td>0</td>\n",
       "      <td>0</td>\n",
       "    </tr>\n",
       "    <tr>\n",
       "      <th>2</th>\n",
       "      <td>0ef32090550901ead25cb0ea21c4d36b</td>\n",
       "      <td>908708</td>\n",
       "      <td>bca57fa40e92c9261b00b03dbebd96fe</td>\n",
       "      <td>4</td>\n",
       "      <td>He's so disturbing. So very, very disturbing.</td>\n",
       "      <td>Tue Apr 22 13:58:10 -0700 2008</td>\n",
       "      <td>Tue Apr 22 13:58:33 -0700 2008</td>\n",
       "      <td></td>\n",
       "      <td></td>\n",
       "      <td>0</td>\n",
       "      <td>0</td>\n",
       "    </tr>\n",
       "    <tr>\n",
       "      <th>3</th>\n",
       "      <td>d37b46b2190ed7c518259f29b47a9b36</td>\n",
       "      <td>253264</td>\n",
       "      <td>cb1ebc02d8b2aff15735d513877463ce</td>\n",
       "      <td>5</td>\n",
       "      <td>I just reread this play for a class I am takin...</td>\n",
       "      <td>Wed Sep 27 19:08:08 -0700 2017</td>\n",
       "      <td>Sat Sep 30 06:39:45 -0700 2017</td>\n",
       "      <td>Wed Sep 27 00:00:00 -0700 2017</td>\n",
       "      <td>Tue Sep 26 00:00:00 -0700 2017</td>\n",
       "      <td>1</td>\n",
       "      <td>0</td>\n",
       "    </tr>\n",
       "    <tr>\n",
       "      <th>4</th>\n",
       "      <td>af157d0205b8a901dee6d4a2aed7e6ad</td>\n",
       "      <td>70885</td>\n",
       "      <td>8dca128b8e869048a7442c18659dbece</td>\n",
       "      <td>5</td>\n",
       "      <td>Cuanto mas leo, mas me gusta. Su poesia es env...</td>\n",
       "      <td>Thu Jun 18 20:00:03 -0700 2015</td>\n",
       "      <td>Thu Jun 18 20:01:29 -0700 2015</td>\n",
       "      <td>Thu Jun 18 00:00:00 -0700 2015</td>\n",
       "      <td>Tue Jun 16 00:00:00 -0700 2015</td>\n",
       "      <td>0</td>\n",
       "      <td>0</td>\n",
       "    </tr>\n",
       "  </tbody>\n",
       "</table>\n",
       "</div>"
      ],
      "text/plain": [
       "                            user_id  book_id  \\\n",
       "0  3ca7375dba942a760e53b726c472a7dd   402128   \n",
       "1  0ef32090550901ead25cb0ea21c4d36b    92270   \n",
       "2  0ef32090550901ead25cb0ea21c4d36b   908708   \n",
       "3  d37b46b2190ed7c518259f29b47a9b36   253264   \n",
       "4  af157d0205b8a901dee6d4a2aed7e6ad    70885   \n",
       "\n",
       "                          review_id  rating  \\\n",
       "0  28423ff309bc896c071a8d9df4a10e8a       5   \n",
       "1  2db1180992e2b0b1631a3ac5644bde84       5   \n",
       "2  bca57fa40e92c9261b00b03dbebd96fe       4   \n",
       "3  cb1ebc02d8b2aff15735d513877463ce       5   \n",
       "4  8dca128b8e869048a7442c18659dbece       5   \n",
       "\n",
       "                                         review_text  \\\n",
       "0  I have three younger siblings and we grew up w...   \n",
       "1          This is my favorite collection of poetry.   \n",
       "2      He's so disturbing. So very, very disturbing.   \n",
       "3  I just reread this play for a class I am takin...   \n",
       "4  Cuanto mas leo, mas me gusta. Su poesia es env...   \n",
       "\n",
       "                       date_added                    date_updated  \\\n",
       "0  Tue Jun 12 08:59:04 -0700 2012  Fri Jun 15 11:41:12 -0700 2012   \n",
       "1  Mon Apr 14 18:42:40 -0700 2014  Mon Apr 14 18:43:05 -0700 2014   \n",
       "2  Tue Apr 22 13:58:10 -0700 2008  Tue Apr 22 13:58:33 -0700 2008   \n",
       "3  Wed Sep 27 19:08:08 -0700 2017  Sat Sep 30 06:39:45 -0700 2017   \n",
       "4  Thu Jun 18 20:00:03 -0700 2015  Thu Jun 18 20:01:29 -0700 2015   \n",
       "\n",
       "                          read_at                      started_at  n_votes  \\\n",
       "0                                                                        0   \n",
       "1  Wed Jan 01 00:00:00 -0800 1997                                        0   \n",
       "2                                                                        0   \n",
       "3  Wed Sep 27 00:00:00 -0700 2017  Tue Sep 26 00:00:00 -0700 2017        1   \n",
       "4  Thu Jun 18 00:00:00 -0700 2015  Tue Jun 16 00:00:00 -0700 2015        0   \n",
       "\n",
       "   n_comments  \n",
       "0           0  \n",
       "1           0  \n",
       "2           0  \n",
       "3           0  \n",
       "4           0  "
      ]
     },
     "execution_count": 4,
     "metadata": {},
     "output_type": "execute_result"
    }
   ],
   "source": [
    "reviews.head()"
   ]
  },
  {
   "cell_type": "markdown",
   "id": "a09f6340",
   "metadata": {},
   "source": [
    "### Total number of poetry books in the dataset"
   ]
  },
  {
   "cell_type": "code",
   "execution_count": 5,
   "id": "5cb49640",
   "metadata": {},
   "outputs": [
    {
     "data": {
      "text/plain": [
       "36514"
      ]
     },
     "execution_count": 5,
     "metadata": {},
     "output_type": "execute_result"
    }
   ],
   "source": [
    "len(books)"
   ]
  },
  {
   "cell_type": "markdown",
   "id": "c2ecce5b",
   "metadata": {},
   "source": [
    "### Total number of reviews in the dataset"
   ]
  },
  {
   "cell_type": "code",
   "execution_count": 6,
   "id": "b2369790",
   "metadata": {},
   "outputs": [
    {
     "data": {
      "text/plain": [
       "154555"
      ]
     },
     "execution_count": 6,
     "metadata": {},
     "output_type": "execute_result"
    }
   ],
   "source": [
    "len(reviews)"
   ]
  },
  {
   "cell_type": "markdown",
   "id": "c1b3bc9d",
   "metadata": {},
   "source": [
    "### Merge both book and review dataset on book_id"
   ]
  },
  {
   "cell_type": "code",
   "execution_count": 7,
   "id": "dd30d5b2",
   "metadata": {},
   "outputs": [],
   "source": [
    "books_and_reviews = pd.merge(reviews, books, on=['book_id'])"
   ]
  },
  {
   "cell_type": "markdown",
   "id": "030e54c3",
   "metadata": {},
   "source": [
    "### Displaying first 5 rows of data"
   ]
  },
  {
   "cell_type": "code",
   "execution_count": 8,
   "id": "f67c7ff0",
   "metadata": {
    "scrolled": false
   },
   "outputs": [
    {
     "data": {
      "text/html": [
       "<div>\n",
       "<style scoped>\n",
       "    .dataframe tbody tr th:only-of-type {\n",
       "        vertical-align: middle;\n",
       "    }\n",
       "\n",
       "    .dataframe tbody tr th {\n",
       "        vertical-align: top;\n",
       "    }\n",
       "\n",
       "    .dataframe thead th {\n",
       "        text-align: right;\n",
       "    }\n",
       "</style>\n",
       "<table border=\"1\" class=\"dataframe\">\n",
       "  <thead>\n",
       "    <tr style=\"text-align: right;\">\n",
       "      <th></th>\n",
       "      <th>user_id</th>\n",
       "      <th>book_id</th>\n",
       "      <th>review_id</th>\n",
       "      <th>rating</th>\n",
       "      <th>review_text</th>\n",
       "      <th>date_added</th>\n",
       "      <th>date_updated</th>\n",
       "      <th>read_at</th>\n",
       "      <th>started_at</th>\n",
       "      <th>n_votes</th>\n",
       "      <th>...</th>\n",
       "      <th>isbn13</th>\n",
       "      <th>publication_month</th>\n",
       "      <th>edition_information</th>\n",
       "      <th>publication_year</th>\n",
       "      <th>url</th>\n",
       "      <th>image_url</th>\n",
       "      <th>ratings_count</th>\n",
       "      <th>work_id</th>\n",
       "      <th>title</th>\n",
       "      <th>title_without_series</th>\n",
       "    </tr>\n",
       "  </thead>\n",
       "  <tbody>\n",
       "    <tr>\n",
       "      <th>0</th>\n",
       "      <td>3ca7375dba942a760e53b726c472a7dd</td>\n",
       "      <td>402128</td>\n",
       "      <td>28423ff309bc896c071a8d9df4a10e8a</td>\n",
       "      <td>5</td>\n",
       "      <td>I have three younger siblings and we grew up w...</td>\n",
       "      <td>Tue Jun 12 08:59:04 -0700 2012</td>\n",
       "      <td>Fri Jun 15 11:41:12 -0700 2012</td>\n",
       "      <td></td>\n",
       "      <td></td>\n",
       "      <td>0</td>\n",
       "      <td>...</td>\n",
       "      <td>9780151686568</td>\n",
       "      <td>8</td>\n",
       "      <td>Illustrated Edition</td>\n",
       "      <td>1982</td>\n",
       "      <td>https://www.goodreads.com/book/show/402128.Old...</td>\n",
       "      <td>https://images.gr-assets.com/books/1327882662m...</td>\n",
       "      <td>15716</td>\n",
       "      <td>372536</td>\n",
       "      <td>Old Possum's Book of Practical Cats</td>\n",
       "      <td>Old Possum's Book of Practical Cats</td>\n",
       "    </tr>\n",
       "    <tr>\n",
       "      <th>1</th>\n",
       "      <td>408ad43536dd5340cf6f955fc44f8014</td>\n",
       "      <td>402128</td>\n",
       "      <td>b4499b5b99b4462b2ebdb883561cf6b3</td>\n",
       "      <td>3</td>\n",
       "      <td>Although T.S. Eliot displays his complete mast...</td>\n",
       "      <td>Sat Dec 28 07:30:50 -0800 2013</td>\n",
       "      <td>Sat Dec 28 07:35:21 -0800 2013</td>\n",
       "      <td>Fri Dec 27 00:00:00 -0800 2013</td>\n",
       "      <td></td>\n",
       "      <td>0</td>\n",
       "      <td>...</td>\n",
       "      <td>9780151686568</td>\n",
       "      <td>8</td>\n",
       "      <td>Illustrated Edition</td>\n",
       "      <td>1982</td>\n",
       "      <td>https://www.goodreads.com/book/show/402128.Old...</td>\n",
       "      <td>https://images.gr-assets.com/books/1327882662m...</td>\n",
       "      <td>15716</td>\n",
       "      <td>372536</td>\n",
       "      <td>Old Possum's Book of Practical Cats</td>\n",
       "      <td>Old Possum's Book of Practical Cats</td>\n",
       "    </tr>\n",
       "    <tr>\n",
       "      <th>2</th>\n",
       "      <td>a93cf495a6ec60a24ed11c1ae6f45aa9</td>\n",
       "      <td>402128</td>\n",
       "      <td>a87527ad1fe429dc41cc332723fb91de</td>\n",
       "      <td>3</td>\n",
       "      <td>Eh, as an avid cat lover I was a little disapp...</td>\n",
       "      <td>Thu Jun 21 18:01:08 -0700 2012</td>\n",
       "      <td>Wed Jun 12 14:32:42 -0700 2013</td>\n",
       "      <td>Wed Jun 12 14:32:42 -0700 2013</td>\n",
       "      <td>Wed Jun 12 00:00:00 -0700 2013</td>\n",
       "      <td>0</td>\n",
       "      <td>...</td>\n",
       "      <td>9780151686568</td>\n",
       "      <td>8</td>\n",
       "      <td>Illustrated Edition</td>\n",
       "      <td>1982</td>\n",
       "      <td>https://www.goodreads.com/book/show/402128.Old...</td>\n",
       "      <td>https://images.gr-assets.com/books/1327882662m...</td>\n",
       "      <td>15716</td>\n",
       "      <td>372536</td>\n",
       "      <td>Old Possum's Book of Practical Cats</td>\n",
       "      <td>Old Possum's Book of Practical Cats</td>\n",
       "    </tr>\n",
       "    <tr>\n",
       "      <th>3</th>\n",
       "      <td>8d742d4c7a925de61e1574884bd2985a</td>\n",
       "      <td>402128</td>\n",
       "      <td>5e77a73030136445dcc359de17bd3e6a</td>\n",
       "      <td>5</td>\n",
       "      <td>This one was given to me for my graduation fro...</td>\n",
       "      <td>Sun May 18 21:10:26 -0700 2008</td>\n",
       "      <td>Sun May 18 21:15:35 -0700 2008</td>\n",
       "      <td></td>\n",
       "      <td></td>\n",
       "      <td>0</td>\n",
       "      <td>...</td>\n",
       "      <td>9780151686568</td>\n",
       "      <td>8</td>\n",
       "      <td>Illustrated Edition</td>\n",
       "      <td>1982</td>\n",
       "      <td>https://www.goodreads.com/book/show/402128.Old...</td>\n",
       "      <td>https://images.gr-assets.com/books/1327882662m...</td>\n",
       "      <td>15716</td>\n",
       "      <td>372536</td>\n",
       "      <td>Old Possum's Book of Practical Cats</td>\n",
       "      <td>Old Possum's Book of Practical Cats</td>\n",
       "    </tr>\n",
       "    <tr>\n",
       "      <th>4</th>\n",
       "      <td>d4f1cec123612b1bfc04752fa0c190ab</td>\n",
       "      <td>402128</td>\n",
       "      <td>8521d4c827321716b81d1d36bf9a6f6e</td>\n",
       "      <td>5</td>\n",
       "      <td>I love cats and T.S Elliot. Why I have never r...</td>\n",
       "      <td>Sat Jul 16 11:33:49 -0700 2016</td>\n",
       "      <td>Thu Aug 18 20:26:59 -0700 2016</td>\n",
       "      <td>Thu Aug 18 00:00:00 -0700 2016</td>\n",
       "      <td>Tue Aug 16 00:00:00 -0700 2016</td>\n",
       "      <td>3</td>\n",
       "      <td>...</td>\n",
       "      <td>9780151686568</td>\n",
       "      <td>8</td>\n",
       "      <td>Illustrated Edition</td>\n",
       "      <td>1982</td>\n",
       "      <td>https://www.goodreads.com/book/show/402128.Old...</td>\n",
       "      <td>https://images.gr-assets.com/books/1327882662m...</td>\n",
       "      <td>15716</td>\n",
       "      <td>372536</td>\n",
       "      <td>Old Possum's Book of Practical Cats</td>\n",
       "      <td>Old Possum's Book of Practical Cats</td>\n",
       "    </tr>\n",
       "  </tbody>\n",
       "</table>\n",
       "<p>5 rows × 39 columns</p>\n",
       "</div>"
      ],
      "text/plain": [
       "                            user_id  book_id  \\\n",
       "0  3ca7375dba942a760e53b726c472a7dd   402128   \n",
       "1  408ad43536dd5340cf6f955fc44f8014   402128   \n",
       "2  a93cf495a6ec60a24ed11c1ae6f45aa9   402128   \n",
       "3  8d742d4c7a925de61e1574884bd2985a   402128   \n",
       "4  d4f1cec123612b1bfc04752fa0c190ab   402128   \n",
       "\n",
       "                          review_id  rating  \\\n",
       "0  28423ff309bc896c071a8d9df4a10e8a       5   \n",
       "1  b4499b5b99b4462b2ebdb883561cf6b3       3   \n",
       "2  a87527ad1fe429dc41cc332723fb91de       3   \n",
       "3  5e77a73030136445dcc359de17bd3e6a       5   \n",
       "4  8521d4c827321716b81d1d36bf9a6f6e       5   \n",
       "\n",
       "                                         review_text  \\\n",
       "0  I have three younger siblings and we grew up w...   \n",
       "1  Although T.S. Eliot displays his complete mast...   \n",
       "2  Eh, as an avid cat lover I was a little disapp...   \n",
       "3  This one was given to me for my graduation fro...   \n",
       "4  I love cats and T.S Elliot. Why I have never r...   \n",
       "\n",
       "                       date_added                    date_updated  \\\n",
       "0  Tue Jun 12 08:59:04 -0700 2012  Fri Jun 15 11:41:12 -0700 2012   \n",
       "1  Sat Dec 28 07:30:50 -0800 2013  Sat Dec 28 07:35:21 -0800 2013   \n",
       "2  Thu Jun 21 18:01:08 -0700 2012  Wed Jun 12 14:32:42 -0700 2013   \n",
       "3  Sun May 18 21:10:26 -0700 2008  Sun May 18 21:15:35 -0700 2008   \n",
       "4  Sat Jul 16 11:33:49 -0700 2016  Thu Aug 18 20:26:59 -0700 2016   \n",
       "\n",
       "                          read_at                      started_at  n_votes  \\\n",
       "0                                                                        0   \n",
       "1  Fri Dec 27 00:00:00 -0800 2013                                        0   \n",
       "2  Wed Jun 12 14:32:42 -0700 2013  Wed Jun 12 00:00:00 -0700 2013        0   \n",
       "3                                                                        0   \n",
       "4  Thu Aug 18 00:00:00 -0700 2016  Tue Aug 16 00:00:00 -0700 2016        3   \n",
       "\n",
       "   ...         isbn13 publication_month  edition_information publication_year  \\\n",
       "0  ...  9780151686568                 8  Illustrated Edition             1982   \n",
       "1  ...  9780151686568                 8  Illustrated Edition             1982   \n",
       "2  ...  9780151686568                 8  Illustrated Edition             1982   \n",
       "3  ...  9780151686568                 8  Illustrated Edition             1982   \n",
       "4  ...  9780151686568                 8  Illustrated Edition             1982   \n",
       "\n",
       "                                                 url  \\\n",
       "0  https://www.goodreads.com/book/show/402128.Old...   \n",
       "1  https://www.goodreads.com/book/show/402128.Old...   \n",
       "2  https://www.goodreads.com/book/show/402128.Old...   \n",
       "3  https://www.goodreads.com/book/show/402128.Old...   \n",
       "4  https://www.goodreads.com/book/show/402128.Old...   \n",
       "\n",
       "                                           image_url ratings_count work_id  \\\n",
       "0  https://images.gr-assets.com/books/1327882662m...         15716  372536   \n",
       "1  https://images.gr-assets.com/books/1327882662m...         15716  372536   \n",
       "2  https://images.gr-assets.com/books/1327882662m...         15716  372536   \n",
       "3  https://images.gr-assets.com/books/1327882662m...         15716  372536   \n",
       "4  https://images.gr-assets.com/books/1327882662m...         15716  372536   \n",
       "\n",
       "                                 title                 title_without_series  \n",
       "0  Old Possum's Book of Practical Cats  Old Possum's Book of Practical Cats  \n",
       "1  Old Possum's Book of Practical Cats  Old Possum's Book of Practical Cats  \n",
       "2  Old Possum's Book of Practical Cats  Old Possum's Book of Practical Cats  \n",
       "3  Old Possum's Book of Practical Cats  Old Possum's Book of Practical Cats  \n",
       "4  Old Possum's Book of Practical Cats  Old Possum's Book of Practical Cats  \n",
       "\n",
       "[5 rows x 39 columns]"
      ]
     },
     "execution_count": 8,
     "metadata": {},
     "output_type": "execute_result"
    }
   ],
   "source": [
    "books_and_reviews.head()"
   ]
  },
  {
   "cell_type": "markdown",
   "id": "ff886c98",
   "metadata": {},
   "source": [
    "### Total Number of Rows in Dataframe"
   ]
  },
  {
   "cell_type": "code",
   "execution_count": 9,
   "id": "03ecd0c9",
   "metadata": {},
   "outputs": [
    {
     "data": {
      "text/plain": [
       "154555"
      ]
     },
     "execution_count": 9,
     "metadata": {},
     "output_type": "execute_result"
    }
   ],
   "source": [
    "len(books_and_reviews)"
   ]
  },
  {
   "cell_type": "markdown",
   "id": "52f1d527",
   "metadata": {},
   "source": [
    "## Step 2: Clean the data"
   ]
  },
  {
   "cell_type": "markdown",
   "id": "bdb053a6",
   "metadata": {},
   "source": [
    "Looking into the language codes available in the dataset - notice an empty one."
   ]
  },
  {
   "cell_type": "code",
   "execution_count": 10,
   "id": "8a2137f5",
   "metadata": {},
   "outputs": [
    {
     "data": {
      "text/plain": [
       "array(['en-US', 'eng', '', 'ara', 'fin', 'ind', 'swe', 'en-GB', 'en-CA',\n",
       "       'spa', 'msa', 'por', 'nl', 'mul', 'fre', 'ger', 'cze', 'per',\n",
       "       'fil', 'srp', 'ita', 'bul', 'tur', 'lit', 'rum', 'hin', 'pol',\n",
       "       'ben', 'nor', 'nno', 'nob', 'vie', 'rus', 'ukr', 'est', 'scr',\n",
       "       'tlh', 'nep', 'enm', 'dan', 'lav', 'slo', 'gre', 'urd', 'afr',\n",
       "       'mon', 'arw', 'heb', 'lat', 'sco', 'grc', 'dum', 'hye', '--',\n",
       "       'slv', 'kat', 'tel', 'pes', 'tam', 'mkd', 'peo', 'sqi', 'hun',\n",
       "       'jpn', 'tha', 'ota', 'glg', 'ang', 'sin', 'aus', 'bel', 'snd',\n",
       "       'tgl', 'ira', 'mal', 'cat', 'isl', 'aze', 'amh', 'zho', 'dgr',\n",
       "       'pan', 'fro', 'bos', 'gmh', 'kur', 'san', 'frm', 'mar', 'fao',\n",
       "       'dut', 'gla', 'kor'], dtype=object)"
      ]
     },
     "execution_count": 10,
     "metadata": {},
     "output_type": "execute_result"
    }
   ],
   "source": [
    "books_and_reviews.language_code.unique()"
   ]
  },
  {
   "cell_type": "markdown",
   "id": "dc768dc2",
   "metadata": {},
   "source": [
    "We will only be looking at english books for the purpose of this assignment - those language codes are: `en-US, eng, en-GB, and en-CA`"
   ]
  },
  {
   "cell_type": "code",
   "execution_count": 11,
   "id": "9a95f41f",
   "metadata": {},
   "outputs": [],
   "source": [
    "books_and_reviews = books_and_reviews.loc[books_and_reviews['language_code'].isin(['en-US', 'eng', 'en-GB', 'en-CA'])]"
   ]
  },
  {
   "cell_type": "markdown",
   "id": "2b8a335a",
   "metadata": {},
   "source": [
    "### New number of rows after removing books not in english"
   ]
  },
  {
   "cell_type": "code",
   "execution_count": 12,
   "id": "fb4560f2",
   "metadata": {},
   "outputs": [
    {
     "data": {
      "text/plain": [
       "66394"
      ]
     },
     "execution_count": 12,
     "metadata": {},
     "output_type": "execute_result"
    }
   ],
   "source": [
    "len(books_and_reviews)"
   ]
  },
  {
   "cell_type": "code",
   "execution_count": 13,
   "id": "27f5094a",
   "metadata": {},
   "outputs": [
    {
     "data": {
      "text/html": [
       "<div>\n",
       "<style scoped>\n",
       "    .dataframe tbody tr th:only-of-type {\n",
       "        vertical-align: middle;\n",
       "    }\n",
       "\n",
       "    .dataframe tbody tr th {\n",
       "        vertical-align: top;\n",
       "    }\n",
       "\n",
       "    .dataframe thead th {\n",
       "        text-align: right;\n",
       "    }\n",
       "</style>\n",
       "<table border=\"1\" class=\"dataframe\">\n",
       "  <thead>\n",
       "    <tr style=\"text-align: right;\">\n",
       "      <th></th>\n",
       "      <th>book_id</th>\n",
       "      <th>title</th>\n",
       "      <th>description</th>\n",
       "      <th>user_id</th>\n",
       "      <th>review_id</th>\n",
       "      <th>review_text</th>\n",
       "      <th>date_added</th>\n",
       "      <th>date_updated</th>\n",
       "      <th>read_at</th>\n",
       "      <th>started_at</th>\n",
       "      <th>...</th>\n",
       "      <th>publisher</th>\n",
       "      <th>num_pages</th>\n",
       "      <th>publication_day</th>\n",
       "      <th>isbn13</th>\n",
       "      <th>publication_month</th>\n",
       "      <th>edition_information</th>\n",
       "      <th>publication_year</th>\n",
       "      <th>url</th>\n",
       "      <th>image_url</th>\n",
       "      <th>title_without_series</th>\n",
       "    </tr>\n",
       "  </thead>\n",
       "  <tbody>\n",
       "    <tr>\n",
       "      <th>0</th>\n",
       "      <td>244</td>\n",
       "      <td>The Puffin Book Of Nonsense Verse</td>\n",
       "      <td>Ever eaten Poodle Strudel? Slain a Jabberwock?...</td>\n",
       "      <td>0d7f985364140270f38979a08b54ce64 f1c65b0db8a70...</td>\n",
       "      <td>9884a91605b165994bb902e8f1c1a00b b236bf469b5e5...</td>\n",
       "      <td>notable - ogden nash, -the purist-. Laura Rich...</td>\n",
       "      <td>Sun Dec 23 22:42:27 -0800 2012 Thu Feb 20 16:1...</td>\n",
       "      <td>Mon Dec 31 18:22:40 -0800 2012 Fri May 16 03:3...</td>\n",
       "      <td>Mon Dec 31 00:00:00 -0800 2012 Sat May 10 00:0...</td>\n",
       "      <td>Mon Dec 24 00:00:00 -0800 2012 Thu Feb 20 00:0...</td>\n",
       "      <td>...</td>\n",
       "      <td>Puffin Puffin</td>\n",
       "      <td>287 287</td>\n",
       "      <td>3 3</td>\n",
       "      <td>9780140366600 9780140366600</td>\n",
       "      <td>10 10</td>\n",
       "      <td></td>\n",
       "      <td>1996 1996</td>\n",
       "      <td>https://www.goodreads.com/book/show/244.The_Pu...</td>\n",
       "      <td>https://images.gr-assets.com/books/1356458077m...</td>\n",
       "      <td>The Puffin Book Of Nonsense Verse The Puffin B...</td>\n",
       "    </tr>\n",
       "    <tr>\n",
       "      <th>1</th>\n",
       "      <td>289</td>\n",
       "      <td>The Beloved: Reflections on the Path of the Heart</td>\n",
       "      <td>Exquisite writings on love, marriage, and the ...</td>\n",
       "      <td>9fb72b46fb5e148a8a085b359f83420c 274923c607c1d...</td>\n",
       "      <td>c3700d2dbd14b55f1f03b49d49902816 64144beaf3890...</td>\n",
       "      <td>Of course, the various stories and poems in th...</td>\n",
       "      <td>Fri Jul 25 09:17:36 -0700 2014 Sat Aug 30 16:1...</td>\n",
       "      <td>Tue Jun 23 12:14:41 -0700 2015 Wed Sep 29 09:5...</td>\n",
       "      <td>Fri Jul 25 09:23:37 -0700 2014   Sat Apr 16 00...</td>\n",
       "      <td>Thu Jul 24 00:00:00 -0700 2014   Sat Apr 02 00...</td>\n",
       "      <td>...</td>\n",
       "      <td>Penguin Books Penguin Books Penguin Books Peng...</td>\n",
       "      <td>102 102 102 102 102</td>\n",
       "      <td>1 1 1 1 1</td>\n",
       "      <td>9780140195538 9780140195538 9780140195538 9780...</td>\n",
       "      <td>1 1 1 1 1</td>\n",
       "      <td></td>\n",
       "      <td>1998 1998 1998 1998 1998</td>\n",
       "      <td>https://www.goodreads.com/book/show/289.The_Be...</td>\n",
       "      <td>https://s.gr-assets.com/assets/nophoto/book/11...</td>\n",
       "      <td>The Beloved: Reflections on the Path of the He...</td>\n",
       "    </tr>\n",
       "    <tr>\n",
       "      <th>2</th>\n",
       "      <td>290</td>\n",
       "      <td>Jesus the Son of Man</td>\n",
       "      <td>In Jesus Son of Man Jesus is portrayed through...</td>\n",
       "      <td>da3b9a5ea91c12e5cfa098588afa737d ec54bc6493644...</td>\n",
       "      <td>9c4fa7b9913339fdec91473847e241f2 d6cb5b14612b4...</td>\n",
       "      <td>n kn lkl dyn khlq ...fkhlq rsl@ `ys~ hy lmHb@ ...</td>\n",
       "      <td>Tue Nov 05 03:52:17 -0800 2013 Wed Mar 12 19:3...</td>\n",
       "      <td>Sun Jan 05 08:41:27 -0800 2014 Tue Dec 30 15:0...</td>\n",
       "      <td>Tue Mar 11 00:00:00 -0700 2014 Thu Feb 09 16:...</td>\n",
       "      <td>Thu Feb 09 00:00:00 -0800 2017 Tue Feb 11 00...</td>\n",
       "      <td>...</td>\n",
       "      <td>Knopf Knopf Knopf Knopf Knopf Knopf Knopf Knop...</td>\n",
       "      <td>216 216 216 216 216 216 216 216 216 216 216 21...</td>\n",
       "      <td>21 21 21 21 21 21 21 21 21 21 21 21 21 21</td>\n",
       "      <td>9780394431246 9780394431246 9780394431246 9780...</td>\n",
       "      <td>2 2 2 2 2 2 2 2 2 2 2 2 2 2</td>\n",
       "      <td></td>\n",
       "      <td>1995 1995 1995 1995 1995 1995 1995 1995 1995 1...</td>\n",
       "      <td>https://www.goodreads.com/book/show/290.Jesus_...</td>\n",
       "      <td>https://images.gr-assets.com/books/1374680606m...</td>\n",
       "      <td>Jesus the Son of Man Jesus the Son of Man Jesu...</td>\n",
       "    </tr>\n",
       "    <tr>\n",
       "      <th>3</th>\n",
       "      <td>291</td>\n",
       "      <td>The Broken Wings</td>\n",
       "      <td>This is the exquisitely tender story of love t...</td>\n",
       "      <td>a2643d991f999dfb99752b56d2f45d53 d716956e51e09...</td>\n",
       "      <td>7b0db8717fbd37fe4ff7c214185a3271 4f2e5f58f04d2...</td>\n",
       "      <td>fy hdhh lrwy@ km hy'l mn lmsh`r lrqyq@ lSdq@ S...</td>\n",
       "      <td>Thu Oct 10 11:15:09 -0700 2013 Sun Feb 10 07:0...</td>\n",
       "      <td>Thu Dec 05 14:24:07 -0800 2013 Fri Aug 02 03:5...</td>\n",
       "      <td>Fri Dec 06 00:00:00 -0800 2013 Tue May 14 00:0...</td>\n",
       "      <td>Thu Dec 05 00:00:00 -0800 2013 Thu May 09 00:0...</td>\n",
       "      <td>...</td>\n",
       "      <td>Citadel Citadel Citadel Citadel Citadel Citade...</td>\n",
       "      <td>132 132 132 132 132 132 132 132 132 132 132 13...</td>\n",
       "      <td>3 3 3 3 3 3 3 3 3 3 3 3 3 3 3 3 3 3 3 3 3 3 3 ...</td>\n",
       "      <td>9780806501901 9780806501901 9780806501901 9780...</td>\n",
       "      <td>3 3 3 3 3 3 3 3 3 3 3 3 3 3 3 3 3 3 3 3 3 3 3 ...</td>\n",
       "      <td>...</td>\n",
       "      <td>2003 2003 2003 2003 2003 2003 2003 2003 2003 2...</td>\n",
       "      <td>https://www.goodreads.com/book/show/291.The_Br...</td>\n",
       "      <td>https://s.gr-assets.com/assets/nophoto/book/11...</td>\n",
       "      <td>The Broken Wings The Broken Wings The Broken W...</td>\n",
       "    </tr>\n",
       "    <tr>\n",
       "      <th>4</th>\n",
       "      <td>292</td>\n",
       "      <td>Sand and Foam</td>\n",
       "      <td>A book of aphorisms, poems, and parables by th...</td>\n",
       "      <td>55ee51ab3a7247d6e736b82a3e4de91b e00e45b1c3f58...</td>\n",
       "      <td>8b33b1979cf17b352c8c2a60ab7b79a6 d11d6e45a5c93...</td>\n",
       "      <td>Hzyn wlkn@ kthr mn ry'` hn ydhkrny jbrn 'n 'sm...</td>\n",
       "      <td>Tue Aug 05 12:29:13 -0700 2014 Mon Mar 09 17:5...</td>\n",
       "      <td>Mon Aug 18 14:06:47 -0700 2014 Mon Mar 09 20:1...</td>\n",
       "      <td>Mon Aug 18 14:06:47 -0700 2014   Tue Oct 21 00...</td>\n",
       "      <td>Tue Aug 05 00:00:00 -0700 2014    Mon Dec 29 0...</td>\n",
       "      <td>...</td>\n",
       "      <td>Knopf Knopf Knopf Knopf Knopf Knopf Knopf Knop...</td>\n",
       "      <td>100 100 100 100 100 100 100 100 100 100 100 10...</td>\n",
       "      <td>14 14 14 14 14 14 14 14 14 14 14 14 14 14 14 1...</td>\n",
       "      <td>9780679439202 9780679439202 9780679439202 9780...</td>\n",
       "      <td>6 6 6 6 6 6 6 6 6 6 6 6 6 6 6 6 6 6 6 6 6 6 6 ...</td>\n",
       "      <td>Kahlil Gibran Pocket Library Kahlil Gibran Poc...</td>\n",
       "      <td>2011 2011 2011 2011 2011 2011 2011 2011 2011 2...</td>\n",
       "      <td>https://www.goodreads.com/book/show/292.Sand_a...</td>\n",
       "      <td>https://s.gr-assets.com/assets/nophoto/book/11...</td>\n",
       "      <td>Sand and Foam Sand and Foam Sand and Foam Sand...</td>\n",
       "    </tr>\n",
       "  </tbody>\n",
       "</table>\n",
       "<p>5 rows × 28 columns</p>\n",
       "</div>"
      ],
      "text/plain": [
       "   book_id                                              title  \\\n",
       "0      244                  The Puffin Book Of Nonsense Verse   \n",
       "1      289  The Beloved: Reflections on the Path of the Heart   \n",
       "2      290                               Jesus the Son of Man   \n",
       "3      291                                   The Broken Wings   \n",
       "4      292                                      Sand and Foam   \n",
       "\n",
       "                                         description  \\\n",
       "0  Ever eaten Poodle Strudel? Slain a Jabberwock?...   \n",
       "1  Exquisite writings on love, marriage, and the ...   \n",
       "2  In Jesus Son of Man Jesus is portrayed through...   \n",
       "3  This is the exquisitely tender story of love t...   \n",
       "4  A book of aphorisms, poems, and parables by th...   \n",
       "\n",
       "                                             user_id  \\\n",
       "0  0d7f985364140270f38979a08b54ce64 f1c65b0db8a70...   \n",
       "1  9fb72b46fb5e148a8a085b359f83420c 274923c607c1d...   \n",
       "2  da3b9a5ea91c12e5cfa098588afa737d ec54bc6493644...   \n",
       "3  a2643d991f999dfb99752b56d2f45d53 d716956e51e09...   \n",
       "4  55ee51ab3a7247d6e736b82a3e4de91b e00e45b1c3f58...   \n",
       "\n",
       "                                           review_id  \\\n",
       "0  9884a91605b165994bb902e8f1c1a00b b236bf469b5e5...   \n",
       "1  c3700d2dbd14b55f1f03b49d49902816 64144beaf3890...   \n",
       "2  9c4fa7b9913339fdec91473847e241f2 d6cb5b14612b4...   \n",
       "3  7b0db8717fbd37fe4ff7c214185a3271 4f2e5f58f04d2...   \n",
       "4  8b33b1979cf17b352c8c2a60ab7b79a6 d11d6e45a5c93...   \n",
       "\n",
       "                                         review_text  \\\n",
       "0  notable - ogden nash, -the purist-. Laura Rich...   \n",
       "1  Of course, the various stories and poems in th...   \n",
       "2  n kn lkl dyn khlq ...fkhlq rsl@ `ys~ hy lmHb@ ...   \n",
       "3  fy hdhh lrwy@ km hy'l mn lmsh`r lrqyq@ lSdq@ S...   \n",
       "4  Hzyn wlkn@ kthr mn ry'` hn ydhkrny jbrn 'n 'sm...   \n",
       "\n",
       "                                          date_added  \\\n",
       "0  Sun Dec 23 22:42:27 -0800 2012 Thu Feb 20 16:1...   \n",
       "1  Fri Jul 25 09:17:36 -0700 2014 Sat Aug 30 16:1...   \n",
       "2  Tue Nov 05 03:52:17 -0800 2013 Wed Mar 12 19:3...   \n",
       "3  Thu Oct 10 11:15:09 -0700 2013 Sun Feb 10 07:0...   \n",
       "4  Tue Aug 05 12:29:13 -0700 2014 Mon Mar 09 17:5...   \n",
       "\n",
       "                                        date_updated  \\\n",
       "0  Mon Dec 31 18:22:40 -0800 2012 Fri May 16 03:3...   \n",
       "1  Tue Jun 23 12:14:41 -0700 2015 Wed Sep 29 09:5...   \n",
       "2  Sun Jan 05 08:41:27 -0800 2014 Tue Dec 30 15:0...   \n",
       "3  Thu Dec 05 14:24:07 -0800 2013 Fri Aug 02 03:5...   \n",
       "4  Mon Aug 18 14:06:47 -0700 2014 Mon Mar 09 20:1...   \n",
       "\n",
       "                                             read_at  \\\n",
       "0  Mon Dec 31 00:00:00 -0800 2012 Sat May 10 00:0...   \n",
       "1  Fri Jul 25 09:23:37 -0700 2014   Sat Apr 16 00...   \n",
       "2   Tue Mar 11 00:00:00 -0700 2014 Thu Feb 09 16:...   \n",
       "3  Fri Dec 06 00:00:00 -0800 2013 Tue May 14 00:0...   \n",
       "4  Mon Aug 18 14:06:47 -0700 2014   Tue Oct 21 00...   \n",
       "\n",
       "                                          started_at  ...  \\\n",
       "0  Mon Dec 24 00:00:00 -0800 2012 Thu Feb 20 00:0...  ...   \n",
       "1  Thu Jul 24 00:00:00 -0700 2014   Sat Apr 02 00...  ...   \n",
       "2    Thu Feb 09 00:00:00 -0800 2017 Tue Feb 11 00...  ...   \n",
       "3  Thu Dec 05 00:00:00 -0800 2013 Thu May 09 00:0...  ...   \n",
       "4  Tue Aug 05 00:00:00 -0700 2014    Mon Dec 29 0...  ...   \n",
       "\n",
       "                                           publisher  \\\n",
       "0                                      Puffin Puffin   \n",
       "1  Penguin Books Penguin Books Penguin Books Peng...   \n",
       "2  Knopf Knopf Knopf Knopf Knopf Knopf Knopf Knop...   \n",
       "3  Citadel Citadel Citadel Citadel Citadel Citade...   \n",
       "4  Knopf Knopf Knopf Knopf Knopf Knopf Knopf Knop...   \n",
       "\n",
       "                                           num_pages  \\\n",
       "0                                            287 287   \n",
       "1                                102 102 102 102 102   \n",
       "2  216 216 216 216 216 216 216 216 216 216 216 21...   \n",
       "3  132 132 132 132 132 132 132 132 132 132 132 13...   \n",
       "4  100 100 100 100 100 100 100 100 100 100 100 10...   \n",
       "\n",
       "                                     publication_day  \\\n",
       "0                                                3 3   \n",
       "1                                          1 1 1 1 1   \n",
       "2          21 21 21 21 21 21 21 21 21 21 21 21 21 21   \n",
       "3  3 3 3 3 3 3 3 3 3 3 3 3 3 3 3 3 3 3 3 3 3 3 3 ...   \n",
       "4  14 14 14 14 14 14 14 14 14 14 14 14 14 14 14 1...   \n",
       "\n",
       "                                              isbn13  \\\n",
       "0                        9780140366600 9780140366600   \n",
       "1  9780140195538 9780140195538 9780140195538 9780...   \n",
       "2  9780394431246 9780394431246 9780394431246 9780...   \n",
       "3  9780806501901 9780806501901 9780806501901 9780...   \n",
       "4  9780679439202 9780679439202 9780679439202 9780...   \n",
       "\n",
       "                                   publication_month  \\\n",
       "0                                              10 10   \n",
       "1                                          1 1 1 1 1   \n",
       "2                        2 2 2 2 2 2 2 2 2 2 2 2 2 2   \n",
       "3  3 3 3 3 3 3 3 3 3 3 3 3 3 3 3 3 3 3 3 3 3 3 3 ...   \n",
       "4  6 6 6 6 6 6 6 6 6 6 6 6 6 6 6 6 6 6 6 6 6 6 6 ...   \n",
       "\n",
       "                                 edition_information  \\\n",
       "0                                                      \n",
       "1                                                      \n",
       "2                                                      \n",
       "3                                                ...   \n",
       "4  Kahlil Gibran Pocket Library Kahlil Gibran Poc...   \n",
       "\n",
       "                                    publication_year  \\\n",
       "0                                          1996 1996   \n",
       "1                           1998 1998 1998 1998 1998   \n",
       "2  1995 1995 1995 1995 1995 1995 1995 1995 1995 1...   \n",
       "3  2003 2003 2003 2003 2003 2003 2003 2003 2003 2...   \n",
       "4  2011 2011 2011 2011 2011 2011 2011 2011 2011 2...   \n",
       "\n",
       "                                                 url  \\\n",
       "0  https://www.goodreads.com/book/show/244.The_Pu...   \n",
       "1  https://www.goodreads.com/book/show/289.The_Be...   \n",
       "2  https://www.goodreads.com/book/show/290.Jesus_...   \n",
       "3  https://www.goodreads.com/book/show/291.The_Br...   \n",
       "4  https://www.goodreads.com/book/show/292.Sand_a...   \n",
       "\n",
       "                                           image_url  \\\n",
       "0  https://images.gr-assets.com/books/1356458077m...   \n",
       "1  https://s.gr-assets.com/assets/nophoto/book/11...   \n",
       "2  https://images.gr-assets.com/books/1374680606m...   \n",
       "3  https://s.gr-assets.com/assets/nophoto/book/11...   \n",
       "4  https://s.gr-assets.com/assets/nophoto/book/11...   \n",
       "\n",
       "                                title_without_series  \n",
       "0  The Puffin Book Of Nonsense Verse The Puffin B...  \n",
       "1  The Beloved: Reflections on the Path of the He...  \n",
       "2  Jesus the Son of Man Jesus the Son of Man Jesu...  \n",
       "3  The Broken Wings The Broken Wings The Broken W...  \n",
       "4  Sand and Foam Sand and Foam Sand and Foam Sand...  \n",
       "\n",
       "[5 rows x 28 columns]"
      ]
     },
     "execution_count": 13,
     "metadata": {},
     "output_type": "execute_result"
    }
   ],
   "source": [
    "# making one entry per book - essentially merging all reviews together (arely) - we can drop columns that we dont need\n",
    "temp = books_and_reviews.groupby(['book_id', 'title', 'description'], as_index=False).agg(' '.join)\n",
    "temp.head()"
   ]
  },
  {
   "cell_type": "code",
   "execution_count": 14,
   "id": "13aa961c",
   "metadata": {},
   "outputs": [],
   "source": [
    "# add extra column of only text (title, description, and review text)\n",
    "temp['text_data'] = temp['title'] + temp['description'] + temp['review_text'] "
   ]
  },
  {
   "cell_type": "code",
   "execution_count": 15,
   "id": "998b3639",
   "metadata": {},
   "outputs": [
    {
     "data": {
      "text/plain": [
       "9620"
      ]
     },
     "execution_count": 15,
     "metadata": {},
     "output_type": "execute_result"
    }
   ],
   "source": [
    "len(temp)"
   ]
  },
  {
   "cell_type": "markdown",
   "id": "26867845",
   "metadata": {},
   "source": [
    "## Step 3: Initialize module"
   ]
  },
  {
   "cell_type": "markdown",
   "id": "0705b13d",
   "metadata": {},
   "source": [
    "### Get the system started based only on text descriptions"
   ]
  },
  {
   "cell_type": "code",
   "execution_count": 16,
   "id": "948c2506",
   "metadata": {},
   "outputs": [],
   "source": [
    "# initialize vectorizer from sklearn and remove stopwords\n",
    "tf_idf = TfidfVectorizer(stop_words='english')\n",
    "\n",
    "# generate vectors for text data\n",
    "vectors = tf_idf.fit_transform(temp['text_data'])\n",
    "\n",
    "# calculate cosine similarities (matrix)\n",
    "cosine_sim_matrix = linear_kernel(vectors, vectors)"
   ]
  },
  {
   "cell_type": "markdown",
   "id": "78756922",
   "metadata": {},
   "source": [
    "## Step 4: Decision module"
   ]
  },
  {
   "cell_type": "markdown",
   "id": "10a4e823",
   "metadata": {},
   "source": [
    "### Given a book_id, we will calculate the cosine similarities and sort them to get the top recommended books"
   ]
  },
  {
   "cell_type": "code",
   "execution_count": 17,
   "id": "eb35e94f",
   "metadata": {},
   "outputs": [],
   "source": [
    "indices = pd.Series(temp.index, index=temp['book_id'])\n",
    "def recommend_book(book_id):\n",
    "    # get the index of the book we're referencing/comparing to for recommendations\n",
    "    index = indices[book_id]\n",
    "    \n",
    "    # get pairwise cosine similarities\n",
    "    cosine_sim = list(enumerate(cosine_sim_matrix[index]))\n",
    "    \n",
    "    # sort on cosine similarity scores (descending order)\n",
    "    cosine_sim = sorted(cosine_sim, key=lambda x: x[1], reverse=True)\n",
    "    \n",
    "    # get the top 7 books\n",
    "    cosine_sim = cosine_sim[1:8]\n",
    "    top_7 = [score[0] for score in cosine_sim]\n",
    "    return top_7"
   ]
  },
  {
   "cell_type": "markdown",
   "id": "ba932b28",
   "metadata": {},
   "source": [
    "### Generate a random book to generate recommendations for"
   ]
  },
  {
   "cell_type": "code",
   "execution_count": 18,
   "id": "9aa8f610",
   "metadata": {},
   "outputs": [
    {
     "name": "stdout",
     "output_type": "stream",
     "text": [
      "Ascent of Mount Carmel\n"
     ]
    }
   ],
   "source": [
    "#select a random book to use and generate recommendations on \n",
    "random_book = temp.sample()\n",
    "book_selected = random_book['book_id'].values[0]\n",
    "print(random_book['title'].values[0])"
   ]
  },
  {
   "cell_type": "markdown",
   "id": "fe1f309a",
   "metadata": {},
   "source": [
    "### Now, generate the top 7 book recommendations"
   ]
  },
  {
   "cell_type": "code",
   "execution_count": 19,
   "id": "a4503902",
   "metadata": {},
   "outputs": [
    {
     "name": "stdout",
     "output_type": "stream",
     "text": [
      "The Collected Works of St. John of the Cross\n",
      "The Poems of St John of the Cross\n",
      "Love Poems from God: Twelve Sacred Voices from the East and West\n",
      "Moonlight\n",
      "Heavenly City Earthly City\n",
      "Overpass\n",
      "St. Peter's B-List: Contemporary Poems Inspired by the Saints\n"
     ]
    }
   ],
   "source": [
    "# pass the book_id to recommend_book to get the top 7 book recommendations\n",
    "top_7 = recommend_book(book_selected)\n",
    "for book_index in top_7:\n",
    "    print(temp.iloc[book_index]['title'])"
   ]
  },
  {
   "cell_type": "markdown",
   "id": "a4d448d7",
   "metadata": {},
   "source": [
    "# Ignore this for now - work in progress for building a user profile"
   ]
  },
  {
   "cell_type": "markdown",
   "id": "08438279",
   "metadata": {},
   "source": [
    "### instead of recommending based on content only; this would recommend based on what the user likes"
   ]
  },
  {
   "cell_type": "code",
   "execution_count": 20,
   "id": "c9388adc",
   "metadata": {},
   "outputs": [
    {
     "data": {
      "text/plain": [
       "30085"
      ]
     },
     "execution_count": 20,
     "metadata": {},
     "output_type": "execute_result"
    }
   ],
   "source": [
    "# number of unique users\n",
    "len(books_and_reviews.user_id.unique())"
   ]
  },
  {
   "cell_type": "code",
   "execution_count": 21,
   "id": "fc4e232f",
   "metadata": {},
   "outputs": [
    {
     "data": {
      "text/plain": [
       "'520534fe4762cd8160d019417d89daf0'"
      ]
     },
     "execution_count": 21,
     "metadata": {},
     "output_type": "execute_result"
    }
   ],
   "source": [
    "# select a random user to use\n",
    "user_selected = books_and_reviews.sample()['user_id'].values[0]\n",
    "user_selected"
   ]
  },
  {
   "cell_type": "code",
   "execution_count": 22,
   "id": "21cf3171",
   "metadata": {},
   "outputs": [
    {
     "data": {
      "text/plain": [
       "7"
      ]
     },
     "execution_count": 22,
     "metadata": {},
     "output_type": "execute_result"
    }
   ],
   "source": [
    "# pull all reviews to build a user profile\n",
    "user_profile = books_and_reviews[books_and_reviews['user_id'] == user_selected]\n",
    "len(user_profile)"
   ]
  },
  {
   "cell_type": "code",
   "execution_count": 23,
   "id": "4f79992e",
   "metadata": {},
   "outputs": [
    {
     "name": "stderr",
     "output_type": "stream",
     "text": [
      "<ipython-input-23-dc6204d74417>:2: SettingWithCopyWarning: \n",
      "A value is trying to be set on a copy of a slice from a DataFrame.\n",
      "Try using .loc[row_indexer,col_indexer] = value instead\n",
      "\n",
      "See the caveats in the documentation: https://pandas.pydata.org/pandas-docs/stable/user_guide/indexing.html#returning-a-view-versus-a-copy\n",
      "  user_profile['text_data'] = user_profile['title'] + user_profile['description'] + user_profile['review_text']\n"
     ]
    },
    {
     "data": {
      "text/plain": [
       "'df_user_profile = '"
      ]
     },
     "execution_count": 23,
     "metadata": {},
     "output_type": "execute_result"
    }
   ],
   "source": [
    "# build text data for user profile\n",
    "user_profile['text_data'] = user_profile['title'] + user_profile['description'] + user_profile['review_text'] \n",
    "\n",
    "#tf idf\n",
    "'''df_user_profile = '''"
   ]
  }
 ],
 "metadata": {
  "kernelspec": {
   "display_name": "Python 3",
   "language": "python",
   "name": "python3"
  },
  "language_info": {
   "codemirror_mode": {
    "name": "ipython",
    "version": 3
   },
   "file_extension": ".py",
   "mimetype": "text/x-python",
   "name": "python",
   "nbconvert_exporter": "python",
   "pygments_lexer": "ipython3",
   "version": "3.8.8"
  }
 },
 "nbformat": 4,
 "nbformat_minor": 5
}
